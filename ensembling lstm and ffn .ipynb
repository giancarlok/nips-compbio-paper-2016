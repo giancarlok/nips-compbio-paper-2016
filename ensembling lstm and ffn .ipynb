{
 "cells": [
  {
   "cell_type": "code",
   "execution_count": 3,
   "metadata": {
    "collapsed": false
   },
   "outputs": [
    {
     "name": "stderr",
     "output_type": "stream",
     "text": [
      "Using Theano backend.\n"
     ]
    }
   ],
   "source": [
    "import pandas as pd\n",
    "import sklearn \n",
    "import scipy\n",
    "from sklearn import linear_model as lm\n",
    "from sklearn.linear_model import LinearRegression\n",
    "from sklearn.preprocessing import StandardScaler\n",
    "from sklearn.decomposition import PCA\n",
    "from sklearn.cross_validation import KFold, train_test_split, cross_val_score, StratifiedKFold, LabelKFold, ShuffleSplit\n",
    "from sklearn.metrics import roc_auc_score\n",
    "from sklearn.svm import SVR\n",
    "from sklearn.ensemble import GradientBoostingRegressor\n",
    "from mhcflurry.amino_acid import common_amino_acids\n",
    "from mhcflurry import dataset\n",
    "from mhcflurry.dataset import Dataset\n",
    "import matplotlib.pyplot as plt \n",
    "% matplotlib inline\n",
    "import numpy as np\n",
    "import math \n",
    "from mhcflurry import peptide_encoding, amino_acid\n",
    "import statsmodels.api as sm\n",
    "from keras import models, layers, optimizers\n",
    "from keras.optimizers import Adam \n",
    "from keras.models import Sequential\n",
    "from keras.layers import Dense, Dropout, Embedding, LSTM, Input, merge, Convolution1D, AveragePooling1D, Activation, Flatten\n",
    "from keras.preprocessing import sequence\n",
    "from keras.models import Model\n",
    "from keras.engine import topology\n",
    "import seaborn as sns\n",
    "from keras.layers.core import Lambda\n",
    "from keras import backend as K"
   ]
  },
  {
   "cell_type": "code",
   "execution_count": 4,
   "metadata": {
    "collapsed": true
   },
   "outputs": [],
   "source": [
    "ds = Dataset.from_csv(\"bdata.2009.mhci.public.1.txt\")\n",
    "ds_h = ds.slice(ds.alleles == 'HLA-A0201')"
   ]
  },
  {
   "cell_type": "code",
   "execution_count": 5,
   "metadata": {
    "collapsed": false
   },
   "outputs": [],
   "source": [
    "df = pd.read_table(\"bdata.2009.mhci.public.1.txt\")\n",
    "\n",
    "df['log_meas']=1-np.log(df['meas'])/math.log(50000)\n",
    "df['peptide_length'] = df['sequence'].str.len()\n",
    "\n",
    "\n",
    "max_len=df['sequence'].str.len().max()\n",
    "n_peptides = df['sequence'].count()\n",
    "\n",
    "def amino_acid_hotshot_encoding(s):\n",
    "    return common_amino_acids.hotshot_encoding([s],len(s)).flatten().astype(int)\n",
    "df['hotshot_encoded_peptides'] = df.sequence.apply(lambda seq: amino_acid_hotshot_encoding(seq))\n",
    "\n",
    "def amino_acid_index_encoding(s, maxlen):\n",
    "    a = 1+common_amino_acids.index_encoding([s],len(s)).flatten()\n",
    "    return np.concatenate([a, np.zeros(maxlen-len(a),dtype=int)])\n",
    "df['index_encoded_peptides'] = df.sequence.apply(lambda seq: amino_acid_index_encoding(seq, max_len))\n",
    "\n",
    "def measured_affinity_less_than(Y,k):\n",
    "    IC50 = 50000**(1-Y)\n",
    "    return (IC50 < k).astype(int) \n",
    "\n",
    "def affinity_label(Y):\n",
    "    return measured_affinity_less_than(Y,50) + measured_affinity_less_than(Y,500) + measured_affinity_less_than(Y,5000) + measured_affinity_less_than(Y,50000)\n",
    "\n",
    "df['affinity_label'] = affinity_label(df['log_meas'])\n",
    "df_h = df[df['mhc']=='HLA-A-0201'][['hotshot_encoded_peptides','index_encoded_peptides','log_meas','peptide_length']]\n",
    "X = np.array(list(df_h['index_encoded_peptides']))\n",
    "y = np.array(list(df_h['log_meas']))\n",
    "y[y<0]=0\n",
    "\n",
    "def first_and_last_three(Y):\n",
    "    k = np.count_nonzero(Y)\n",
    "    return np.concatenate([Y[:3],Y[-3+k:k]])\n",
    "def first_and_last_four(Y):\n",
    "    k = np.count_nonzero(Y)\n",
    "    return np.concatenate([Y[:4],Y[-4+k:k]])\n",
    "def first_and_last_two(Y):\n",
    "    k = np.count_nonzero(Y)\n",
    "    return np.concatenate([Y[:2],Y[-2+k:k]])\n",
    "def cut_the_zeros(Y):\n",
    "    k = np.count_nonzero(Y)\n",
    "    return Y[:k]\n",
    "\n",
    "X_44 = np.apply_along_axis(first_and_last_four,1,X)\n",
    "X_33 = np.apply_along_axis(first_and_last_three,1,X)\n",
    "X_22 = np.apply_along_axis(first_and_last_two,1,X)\n",
    "\n",
    "nine_mers = np.array(list(df_h[df_h['peptide_length']==9]['index_encoded_peptides']))\n",
    "X_9 = np.apply_along_axis(cut_the_zeros,1,nine_mers)\n",
    "y_9 = np.array(list(df_h[df_h['peptide_length']==9]['log_meas']))\n"
   ]
  },
  {
   "cell_type": "code",
   "execution_count": null,
   "metadata": {
    "collapsed": true
   },
   "outputs": [],
   "source": []
  },
  {
   "cell_type": "code",
   "execution_count": 6,
   "metadata": {
    "collapsed": true
   },
   "outputs": [],
   "source": [
    "def regroup_together(affinities, weights , original_indices):\n",
    "    affinities = affinities.ravel()\n",
    "    weights = weights.ravel()\n",
    "    \n",
    "    assert affinities.shape == weights.shape, \"%s should be %s\" % (affinities.shape, weights.shape)\n",
    "    assert affinities.shape == original_indices.shape\n",
    "    assert len(affinities) == len(affinities.ravel())\n",
    "    \n",
    "    weighted_affinities = (affinities * weights)\n",
    "    index_set = set(original_indices)\n",
    "    n_indices = len(index_set)\n",
    "    result_order = {original_index: i for (i, original_index) in enumerate(sorted(index_set))}\n",
    "    result = np.zeros(n_indices)\n",
    "    for i, x in enumerate(weighted_affinities):\n",
    "        result_idx = result_order[original_indices[i]]\n",
    "        result[result_idx] += x\n",
    "    return result\n",
    "\n",
    "def slicing(dataset, index, i):\n",
    "    return dataset.slice(index).kmer_index_encoding()[i]\n",
    "\n",
    "def label_transform(array):\n",
    "    result = 1-np.log(array)/math.log(50000)\n",
    "    result[result<0]=0\n",
    "    return result\n",
    "\n",
    "def index_to_hotshot_encoding(index_encoded_nine_mer):\n",
    "    result = np.zeros((9,21))\n",
    "    for position, amino_acid in enumerate(index_encoded_nine_mer):\n",
    "        result[position][amino_acid]= 1\n",
    "    return result.flatten()\n",
    "\n",
    "def real_labels(dataset,index):\n",
    "    \n",
    "    y = label_transform(slicing(dataset,index,1))\n",
    "    weights = slicing(dataset,index,2)\n",
    "    original_indices = slicing(dataset,index,3)\n",
    "    \n",
    "    return regroup_together(y, weights , original_indices)\n",
    "\n",
    "def fit(model,dataset,index, neural_network = False, hotshot = False): # to be left out or modified \n",
    "    \n",
    "    X = slicing(dataset,index,0)\n",
    "    \n",
    "    if (hotshot == True):\n",
    "        X = np.apply_along_axis(index_to_hotshot_encoding, 1, X)\n",
    "        \n",
    "    y = label_transform(slicing(dataset,index,1))\n",
    "    weights = slicing(dataset,index,2)\n",
    "    \n",
    "    if (neural_network == True):\n",
    "        model.fit(X, y, sample_weight = weights, batch_size = 16, nb_epoch = 1)\n",
    "    else: \n",
    "        model.fit(X, y, sample_weight = weights)\n",
    "        \n",
    "def predict(model, dataset, index, hotshot = False):\n",
    "    \n",
    "    X = slicing(dataset,index,0)\n",
    "    \n",
    "    if (hotshot == True):\n",
    "        X = np.apply_along_axis(index_to_hotshot_encoding, 1, X)\n",
    "        \n",
    "    weights = slicing(dataset,index,2)\n",
    "    original_indices = slicing(dataset,index,3)\n",
    "    \n",
    "    return regroup_together(model.predict(X), weights , original_indices)\n",
    "\n",
    "def AUC(model, dataset, index, hotshot = False):\n",
    "        \n",
    "    real_affinity = measured_affinity_less_than(real_labels(dataset,index),500)\n",
    "    predicted_affinity = predict(model, dataset, index, hotshot = hotshot)\n",
    "    \n",
    "    return roc_auc_score(real_affinity, predicted_affinity)\n",
    "\n",
    "def AUC_simple(model, features, labels, index):\n",
    "    real_affinity = measured_affinity_less_than(labels[index],500)\n",
    "    predicted_affinity = model.predict(features[index])\n",
    "    \n",
    "    return roc_auc_score(real_affinity, predicted_affinity)\n",
    "\n",
    "def AUC_simple_average(model_1, model_2, features, labels, index):\n",
    "    real_affinity = measured_affinity_less_than(labels[index],500)\n",
    "    predicted_affinity_1 = model_1.predict(features[index])\n",
    "    predicted_affinity_2 = model_2.predict(features[index])\n",
    "    predicted_affinity = 0.5* predicted_affinity_1 + 0.5* predicted_affinity_2\n",
    "    \n",
    "    return roc_auc_score(real_affinity, predicted_affinity)"
   ]
  },
  {
   "cell_type": "code",
   "execution_count": 7,
   "metadata": {
    "collapsed": true
   },
   "outputs": [],
   "source": [
    "def split_by_length(X,index,length=9):\n",
    "    length_idx = np.array([i for i in index if (np.count_nonzero(X[i])==length)])\n",
    "    non_length_idx = np.array([i for i in index if (np.count_nonzero(X[i])!=length)])\n",
    "    return index, length_idx, non_length_idx"
   ]
  },
  {
   "cell_type": "code",
   "execution_count": 8,
   "metadata": {
    "collapsed": false
   },
   "outputs": [
    {
     "name": "stdout",
     "output_type": "stream",
     "text": [
      "[[-- 2 3 4]\n",
      " [5 -- 7 8]\n",
      " [9 10 -- 12]]\n"
     ]
    }
   ],
   "source": [
    "from numpy import ma \n",
    "\n",
    "array_test = np.array([[1,2,3,4],[5,6,7,8],[9,10,11,12]])\n",
    "position = [[1,0,0,0], [0,1,0,0], [0,0,1,0]]\n",
    "values = 0\n",
    "mx = ma.masked_array(array_test, mask=position, fill_value =0)\n",
    "print(mx)"
   ]
  },
  {
   "cell_type": "code",
   "execution_count": 9,
   "metadata": {
    "collapsed": false
   },
   "outputs": [],
   "source": [
    "def sum_character_deletion(model,array,length): \n",
    "    result = np.zeros(len(array))\n",
    "    for i in range(length):\n",
    "        position_matrix = np.zeros((len(array),length))\n",
    "        position_matrix[:,i] = 1 \n",
    "        mx = ma.masked_array(array, mask=position_matrix)\n",
    "        result = result + model.predict(mx)\n",
    "        \n",
    "    return result / length\n",
    "        \n",
    "def random_dropout_prediction_by_lentgh(model,array,length):\n",
    "    array_of_lengths = np.apply_along_axis(np.count_nonzero,1,array)\n",
    "    #print(\"array shape\", array.shape, \"array of lengths shape\", array_of_lengths.shape)\n",
    "    bool_array = (array_of_lengths == length)\n",
    "    #print(\"bool_array shape\", bool_array.shape)\n",
    "    result = np.zeros(len(array))\n",
    "    #print(\"result shape\", result.shape)\n",
    "    for i in range(length):\n",
    "        position_matrix = np.zeros(array.shape)\n",
    "        position_matrix[:,i] = 1 \n",
    "        print(\"array shape\", array.shape, \"position_matrix shape\", position_matrix.shape)\n",
    "        mx = ma.masked_array(array, mask=position_matrix)\n",
    "        result[bool_array] = result[bool_array] + model.predict(mx)\n",
    "    \n",
    "    #print(\"result[bool_array] shape\", result[bool_array].shape, \"model prediction shape\", model.predict(array[bool_array]).shape)\n",
    "    return result/length\n",
    "\n",
    "def random_dropout_array_prediction(model,array):\n",
    "    array_of_lengths = np.apply_along_axis(np.count_nonzero,1,array)\n",
    "    result = np.zeros(len(array))\n",
    "    for length in np.unique(array_of_lengths):\n",
    "        result = result + random_dropout_prediction_by_lentgh(model,array,length)\n",
    "    return result\n",
    "\n",
    "def AUC_random_dropout(model, features, labels, index):\n",
    "    real_affinity = measured_affinity_less_than(labels[index],500)\n",
    "    predicted_affinity = random_dropout_array_prediction(model, features[index])\n",
    "    \n",
    "    return roc_auc_score(real_affinity, predicted_affinity)"
   ]
  },
  {
   "cell_type": "code",
   "execution_count": 10,
   "metadata": {
    "collapsed": false
   },
   "outputs": [
    {
     "name": "stdout",
     "output_type": "stream",
     "text": [
      "Epoch 1/1\n",
      "4640/4640 [==============================] - 0s - loss: 0.0703     \n",
      "Epoch 1/1\n",
      "4640/4640 [==============================] - 3s - loss: 0.0523     \n",
      "AUC: 0.943159568618 0.931597437487 0.945975670838 0 0\n",
      "Epoch 1/1\n",
      "4640/4640 [==============================] - 0s - loss: 0.0315     \n",
      "Epoch 1/1\n",
      "4640/4640 [==============================] - 2s - loss: 0.0308     \n",
      "AUC: 0.957077208136 0.9480273274 0.955916967016 0 1\n",
      "Epoch 1/1\n",
      "4640/4640 [==============================] - 0s - loss: 0.0282     \n",
      "Epoch 1/1\n",
      "4640/4640 [==============================] - 2s - loss: 0.0271     \n",
      "AUC: 0.958826764179 0.951898592299 0.95834077639 0 2\n",
      "Epoch 1/1\n",
      "4640/4640 [==============================] - 0s - loss: 0.0269     \n",
      "Epoch 1/1\n",
      "4640/4640 [==============================] - 3s - loss: 0.0254     \n",
      "AUC: 0.960123607273 0.953517675945 0.959947600884 0 3\n",
      "Epoch 1/1\n",
      "4640/4640 [==============================] - 0s - loss: 0.0266     \n",
      "Epoch 1/1\n",
      "4640/4640 [==============================] - 4s - loss: 0.0247     \n",
      "AUC: 0.960381925107 0.953425732309 0.960344709826 0 4\n",
      "Epoch 1/1\n",
      "4640/4640 [==============================] - 0s - loss: 0.0266     \n",
      "Epoch 1/1\n",
      "4640/4640 [==============================] - 5s - loss: 0.0244     \n",
      "AUC: 0.960933586923 0.953959881051 0.960269841437 0 5\n",
      "Epoch 1/1\n",
      "4640/4640 [==============================] - 0s - loss: 0.0263     \n",
      "Epoch 1/1\n",
      "4640/4640 [==============================] - 4s - loss: 0.0239     \n",
      "AUC: 0.961207666523 0.954141141362 0.960797860603 0 6\n",
      "Epoch 1/1\n",
      "4640/4640 [==============================] - 0s - loss: 0.0257     \n",
      "Epoch 1/1\n",
      "4640/4640 [==============================] - 5s - loss: 0.0235     \n",
      "AUC: 0.960760207495 0.954290002487 0.960572817608 0 7\n",
      "Epoch 1/1\n",
      "4640/4640 [==============================] - 0s - loss: 0.0260     \n",
      "Epoch 1/1\n",
      "4640/4640 [==============================] - 4s - loss: 0.0233     \n",
      "AUC: 0.960431837367 0.954319774712 0.960403816449 0 8\n",
      "Epoch 1/1\n",
      "4640/4640 [==============================] - 0s - loss: 0.0260     \n",
      "Epoch 1/1\n",
      "4640/4640 [==============================] - 4s - loss: 0.0235     \n",
      "AUC: 0.960754077919 0.954455501032 0.960360909419 0 9\n",
      "Epoch 1/1\n",
      "4640/4640 [==============================] - 0s - loss: 0.0259     \n",
      "Epoch 1/1\n",
      "4640/4640 [==============================] - 3s - loss: 0.0231     \n",
      "AUC: 0.96111397158 0.954524677672 0.960904690351 0 10\n",
      "Epoch 1/1\n",
      "4640/4640 [==============================] - 0s - loss: 0.0261     \n",
      "Epoch 1/1\n",
      "4640/4640 [==============================] - 3s - loss: 0.0229     \n",
      "AUC: 0.961461606089 0.954525553326 0.960997509641 0 11\n",
      "Epoch 1/1\n",
      "4640/4640 [==============================] - 0s - loss: 0.0260     \n",
      "Epoch 1/1\n",
      "4640/4640 [==============================] - 3s - loss: 0.0229     \n",
      "AUC: 0.961247070938 0.954625377845 0.960896809468 0 12\n",
      "Epoch 1/1\n",
      "4640/4640 [==============================] - 0s - loss: 0.0259     \n",
      "Epoch 1/1\n",
      "4640/4640 [==============================] - 2s - loss: 0.0228     \n",
      "AUC: 0.9614046886 0.954666533567 0.961043919286 0 13\n",
      "Epoch 1/1\n",
      "4640/4640 [==============================] - 0s - loss: 0.0259     \n",
      "Epoch 1/1\n",
      "4640/4640 [==============================] - 3s - loss: 0.0226     \n",
      "AUC: 0.960567563686 0.954684922294 0.96070416566 0 14\n",
      "Epoch 1/1\n",
      "4640/4640 [==============================] - 0s - loss: 0.0260     \n",
      "Epoch 1/1\n",
      "4640/4640 [==============================] - 3s - loss: 0.0231     \n",
      "AUC: 0.961399434678 0.954670036182 0.961376667682 0 15\n",
      "Epoch 1/1\n",
      "4640/4640 [==============================] - 0s - loss: 0.0259     \n",
      "Epoch 1/1\n",
      "4640/4640 [==============================] - 2s - loss: 0.0228     \n",
      "AUC: 0.960454604362 0.95470768929 0.960873166819 0 16\n",
      "Epoch 1/1\n",
      "4640/4640 [==============================] - 0s - loss: 0.0256     \n",
      "Epoch 1/1\n",
      "4640/4640 [==============================] - 2s - loss: 0.0229     \n",
      "AUC: 0.95990250472 0.954712943212 0.960382800761 0 17\n",
      "Epoch 1/1\n",
      "4640/4640 [==============================] - 0s - loss: 0.0255     \n",
      "Epoch 1/1\n",
      "4640/4640 [==============================] - 3s - loss: 0.0229     \n",
      "AUC: 0.961134987268 0.954747093705 0.960945846074 0 18\n",
      "Epoch 1/1\n",
      "4640/4640 [==============================] - 0s - loss: 0.0258     \n",
      "Epoch 1/1\n",
      "4640/4640 [==============================] - 2s - loss: 0.0227     \n",
      "AUC: 0.961544793188 0.954796130311 0.961306615388 0 19\n",
      "Epoch 1/1\n",
      "4640/4640 [==============================] - 0s - loss: 0.0252     \n",
      "Epoch 1/1\n",
      "4640/4640 [==============================] - 2s - loss: 0.0231     \n",
      "AUC: 0.960742256595 0.954825026883 0.960684901279 0 20\n",
      "Epoch 1/1\n",
      "4640/4640 [==============================] - 0s - loss: 0.0257     \n",
      "Epoch 1/1\n",
      "4640/4640 [==============================] - 2s - loss: 0.0226     \n",
      "AUC: 0.961296983198 0.954812767731 0.96102815752 0 21\n",
      "Epoch 1/1\n",
      "4640/4640 [==============================] - 0s - loss: 0.0258     \n",
      "Epoch 1/1\n",
      "4640/4640 [==============================] - 2s - loss: 0.0226     \n",
      "AUC: 0.961546544495 0.954846918224 0.961160381225 0 22\n",
      "Epoch 1/1\n",
      "4640/4640 [==============================] - 0s - loss: 0.0256     \n",
      "Epoch 1/1\n",
      "4640/4640 [==============================] - 2s - loss: 0.0228     \n",
      "AUC: 0.961291729276 0.954849545185 0.961007141831 0 23\n",
      "Epoch 1/1\n",
      "4640/4640 [==============================] - 0s - loss: 0.0255     \n",
      "Epoch 1/1\n",
      "4640/4640 [==============================] - 2s - loss: 0.0228     \n",
      "AUC: 0.961843391091 0.954877566103 0.961537787959 0 24\n",
      "Epoch 1/1\n",
      "4640/4640 [==============================] - 0s - loss: 0.0256     \n",
      "Epoch 1/1\n",
      "4640/4640 [==============================] - 2s - loss: 0.0228     \n",
      "AUC: 0.961986122641 0.954878441757 0.961425704288 0 25\n",
      "Epoch 1/1\n",
      "4640/4640 [==============================] - 0s - loss: 0.0255     \n",
      "Epoch 1/1\n",
      "4640/4640 [==============================] - 2s - loss: 0.0223     \n",
      "AUC: 0.961961604338 0.954880193064 0.961522026193 0 26\n",
      "Epoch 1/1\n",
      "4640/4640 [==============================] - 0s - loss: 0.0257     \n",
      "Epoch 1/1\n",
      "4640/4640 [==============================] - 2s - loss: 0.0225     \n",
      "AUC: 0.960825881521 0.95489595483 0.960928333001 0 27\n",
      "Epoch 1/1\n",
      "4640/4640 [==============================] - 0s - loss: 0.0250     \n",
      "Epoch 1/1\n",
      "4640/4640 [==============================] - 2s - loss: 0.0226     \n",
      "AUC: 0.960848648516 0.954851296493 0.960873166819 0 28\n",
      "Epoch 1/1\n",
      "4640/4640 [==============================] - 0s - loss: 0.0259     \n",
      "Epoch 1/1\n",
      "4640/4640 [==============================] - 2s - loss: 0.0228     \n",
      "AUC: 0.961247070938 0.954846042571 0.961142868151 0 29\n",
      "Epoch 1/1\n",
      "4640/4640 [==============================] - 0s - loss: 0.0255     \n",
      "Epoch 1/1\n",
      "4640/4640 [==============================] - 2s - loss: 0.0225     \n",
      "AUC: 0.961500134851 0.95483641038 0.961177018644 0 30\n",
      "Epoch 1/1\n",
      "4640/4640 [==============================] - 0s - loss: 0.0255     \n",
      "Epoch 1/1\n",
      "4640/4640 [==============================] - 2s - loss: 0.0225     \n",
      "AUC: 0.96136178157 0.954829405151 0.961176142991 0 31\n",
      "Epoch 1/1\n",
      "4640/4640 [==============================] - 0s - loss: 0.0252     \n",
      "Epoch 1/1\n",
      "4640/4640 [==============================] - 2s - loss: 0.0227     \n",
      "AUC: 0.961077194125 0.9548530478 0.960924830386 0 32\n",
      "Epoch 1/1\n",
      "4640/4640 [==============================] - 0s - loss: 0.0255     \n",
      "Epoch 1/1\n",
      "4640/4640 [==============================] - 2s - loss: 0.0226     \n",
      "AUC: 0.960537791461 0.954848669532 0.960751450958 0 33\n",
      "Epoch 1/1\n",
      "4640/4640 [==============================] - 0s - loss: 0.0256     \n",
      "Epoch 1/1\n",
      "4640/4640 [==============================] - 2s - loss: 0.0225     \n",
      "AUC: 0.961926578191 0.954857426069 0.961525528807 0 34\n",
      "Epoch 1/1\n",
      "4640/4640 [==============================] - 0s - loss: 0.0252     \n",
      "Epoch 1/1\n",
      "4640/4640 [==============================] - 2s - loss: 0.0226     \n",
      "AUC: 0.961434460825 0.954870560874 0.961240941363 0 35\n",
      "Epoch 1/1\n",
      "4640/4640 [==============================] - 0s - loss: 0.0255     \n",
      "Epoch 1/1\n",
      "4640/4640 [==============================] - 2s - loss: 0.0226     \n",
      "AUC: 0.961060556706 0.954876690449 0.961050048861 0 36\n",
      "Epoch 1/1\n",
      "4640/4640 [==============================] - 0s - loss: 0.0253     \n",
      "Epoch 1/1\n",
      "4640/4640 [==============================] - 2s - loss: 0.0226     \n",
      "AUC: 0.961213796099 0.954876690449 0.961142868151 0 37\n",
      "Epoch 1/1\n",
      "4640/4640 [==============================] - 0s - loss: 0.0253     \n",
      "Epoch 1/1\n",
      "4640/4640 [==============================] - 2s - loss: 0.0223     \n",
      "AUC: 0.960884550317 0.954881068718 0.960862658975 0 38\n",
      "Epoch 1/1\n",
      "4640/4640 [==============================] - 0s - loss: 0.0254     \n",
      "Epoch 1/1\n",
      "4640/4640 [==============================] - 3s - loss: 0.0227     \n",
      "AUC: 0.961472989587 0.954873187835 0.961264584012 0 39\n",
      "Epoch 1/1\n",
      "4640/4640 [==============================] - 0s - loss: 0.0253     \n",
      "Epoch 1/1\n",
      "4640/4640 [==============================] - 2s - loss: 0.0228     \n",
      "AUC: 0.961164759493 0.95487931741 0.961260205744 0 40\n",
      "Epoch 1/1\n",
      "4640/4640 [==============================] - 0s - loss: 0.0254     \n",
      "Epoch 1/1\n",
      "4640/4640 [==============================] - 2s - loss: 0.0226     \n",
      "AUC: 0.960729559616 0.954876690449 0.96076371011 0 41\n",
      "Epoch 1/1\n",
      "4640/4640 [==============================] - 0s - loss: 0.0252     \n",
      "Epoch 1/1\n",
      "4640/4640 [==============================] - 2s - loss: 0.0226     \n",
      "AUC: 0.960818000637 0.954883695679 0.960722554387 0 42\n",
      "Epoch 1/1\n",
      "4640/4640 [==============================] - 0s - loss: 0.0253     \n",
      "Epoch 1/1\n",
      "4640/4640 [==============================] - 2s - loss: 0.0225     \n",
      "AUC: 0.96107106455 0.954893327869 0.96093533823 0 43\n",
      "Epoch 1/1\n",
      "4640/4640 [==============================] - 0s - loss: 0.0252     \n",
      "Epoch 1/1\n",
      "4640/4640 [==============================] - 2s - loss: 0.0224     \n",
      "AUC: 0.961262832705 0.954889825255 0.961193656064 0 44\n",
      "Epoch 1/1\n",
      "4640/4640 [==============================] - 0s - loss: 0.0253     \n",
      "Epoch 1/1\n",
      "4640/4640 [==============================] - 2s - loss: 0.0222     \n",
      "AUC: 0.961606964599 0.954888949601 0.961271589241 0 45\n",
      "Epoch 1/1\n",
      "4640/4640 [==============================] - 0s - loss: 0.0252     \n",
      "Epoch 1/1\n",
      "4640/4640 [==============================] - 2s - loss: 0.0224     \n",
      "AUC: 0.961376667682 0.954883695679 0.961275091856 0 46\n",
      "Epoch 1/1\n",
      "4640/4640 [==============================] - 0s - loss: 0.0251     \n",
      "Epoch 1/1\n",
      "4640/4640 [==============================] - 2s - loss: 0.0226     \n",
      "AUC: 0.961046546247 0.954876690449 0.960768964032 0 47\n",
      "Epoch 1/1\n",
      "4640/4640 [==============================] - 0s - loss: 0.0250     \n",
      "Epoch 1/1\n",
      "4640/4640 [==============================] - 2s - loss: 0.0223     \n",
      "AUC: 0.961325004116 0.954881068718 0.961181396913 0 48\n",
      "Epoch 1/1\n",
      "4640/4640 [==============================] - 0s - loss: 0.0250     \n",
      "Epoch 1/1\n",
      "4640/4640 [==============================] - 2s - loss: 0.0225     \n",
      "AUC: 0.961501010504 0.954885446986 0.961137614229 0 49\n",
      "Epoch 1/1\n",
      "4640/4640 [==============================] - 0s - loss: 0.0252     \n",
      "Epoch 1/1\n",
      "4640/4640 [==============================] - 2s - loss: 0.0223     \n",
      "AUC: 0.961229557865 0.954882820025 0.961045670593 0 50\n",
      "Epoch 1/1\n",
      "4640/4640 [==============================] - 0s - loss: 0.0249     \n",
      "Epoch 1/1\n",
      "4640/4640 [==============================] - 2s - loss: 0.0227     \n",
      "AUC: 0.961752323109 0.954890700908 0.961212920445 0 51\n",
      "Epoch 1/1\n",
      "4640/4640 [==============================] - 0s - loss: 0.0250     \n",
      "Epoch 1/1\n",
      "4640/4640 [==============================] - 2s - loss: 0.0223     \n",
      "AUC: 0.96100451487 0.954884571332 0.960846897209 0 52\n",
      "Epoch 1/1\n",
      "4640/4640 [==============================] - 0s - loss: 0.0253     \n",
      "Epoch 1/1\n",
      "4640/4640 [==============================] - 2s - loss: 0.0227     \n",
      "AUC: 0.960972115684 0.954885446986 0.961130609 0 53\n",
      "Epoch 1/1\n",
      "4640/4640 [==============================] - 0s - loss: 0.0249     \n",
      "Epoch 1/1\n",
      "4640/4640 [==============================] - 2s - loss: 0.0228     \n",
      "AUC: 0.96168577343 0.95489595483 0.961189277796 0 54\n",
      "Epoch 1/1\n",
      "4640/4640 [==============================] - 0s - loss: 0.0250     \n",
      "Epoch 1/1\n",
      "4640/4640 [==============================] - 2s - loss: 0.0224     \n",
      "AUC: 0.961757577031 0.954893327869 0.961258454436 0 55\n",
      "Epoch 1/1\n",
      "4640/4640 [==============================] - 0s - loss: 0.0253     \n",
      "Epoch 1/1\n",
      "4640/4640 [==============================] - 3s - loss: 0.0226     \n",
      "AUC: 0.961067561935 0.954882820025 0.961163008186 0 56\n",
      "Epoch 1/1\n",
      "4640/4640 [==============================] - 0s - loss: 0.0250     \n",
      "Epoch 1/1\n",
      "4640/4640 [==============================] - 3s - loss: 0.0224     \n",
      "AUC: 0.961098209814 0.954883695679 0.96083288675 0 57\n",
      "Epoch 1/1\n",
      "4640/4640 [==============================] - 0s - loss: 0.0249     \n",
      "Epoch 1/1\n",
      "4640/4640 [==============================] - 2s - loss: 0.0226     \n",
      "AUC: 0.961332884999 0.954888073947 0.961017649675 0 58\n",
      "Epoch 1/1\n",
      "4640/4640 [==============================] - 0s - loss: 0.0247     \n",
      "Epoch 1/1\n",
      "4640/4640 [==============================] - 3s - loss: 0.0227     \n",
      "AUC: 0.96132850673 0.954892452216 0.960783850144 0 59\n",
      "Epoch 1/1\n",
      "4640/4640 [==============================] - 0s - loss: 0.0247     \n",
      "Epoch 1/1\n",
      "4640/4640 [==============================] - 2s - loss: 0.0227     \n",
      "AUC: 0.962584194101 0.954897706138 0.961858277204 0 60\n",
      "Epoch 1/1\n",
      "4640/4640 [==============================] - 0s - loss: 0.0249     \n",
      "Epoch 1/1\n",
      "4640/4640 [==============================] - 2s - loss: 0.0224     \n",
      "AUC: 0.96195022084 0.954903835713 0.961353025033 0 61\n",
      "Epoch 1/1\n",
      "4640/4640 [==============================] - 0s - loss: 0.0253     \n",
      "Epoch 1/1\n",
      "4640/4640 [==============================] - 2s - loss: 0.0226     \n",
      "AUC: 0.961676141239 0.954907338328 0.961147246419 0 62\n",
      "Epoch 1/1\n",
      "4640/4640 [==============================] - 0s - loss: 0.0249     \n",
      "Epoch 1/1\n",
      "4640/4640 [==============================] - 2s - loss: 0.0224     \n",
      "AUC: 0.961647244668 0.954905587021 0.961223428289 0 63\n",
      "Epoch 1/1\n",
      "4640/4640 [==============================] - 0s - loss: 0.0248     \n",
      "Epoch 1/1\n",
      "4640/4640 [==============================] - 2s - loss: 0.0225     \n",
      "AUC: 0.961544793188 0.954902084406 0.961161256878 0 64\n",
      "Epoch 1/1\n",
      "4640/4640 [==============================] - 0s - loss: 0.0251     \n",
      "Epoch 1/1\n",
      "4640/4640 [==============================] - 2s - loss: 0.0224     \n",
      "AUC: 0.961846018052 0.954906462674 0.961338138921 0 65\n",
      "Epoch 1/1\n",
      "4640/4640 [==============================] - 0s - loss: 0.0251     \n",
      "Epoch 1/1\n",
      "4640/4640 [==============================] - 2s - loss: 0.0223     \n",
      "AUC: 0.961687524737 0.954901208752 0.961256703129 0 66\n",
      "Epoch 1/1\n",
      "4640/4640 [==============================] - 0s - loss: 0.0247     \n",
      "Epoch 1/1\n",
      "4640/4640 [==============================] - 2s - loss: 0.0222     \n",
      "AUC: 0.962005387021 0.95490296006 0.961448471284 0 67\n",
      "Epoch 1/1\n",
      "4640/4640 [==============================] - 0s - loss: 0.0245     \n",
      "Epoch 1/1\n",
      "4640/4640 [==============================] - 2s - loss: 0.0223     \n",
      "AUC: 0.961175267337 0.954902084406 0.960936213884 0 68\n",
      "Epoch 1/1\n",
      "4640/4640 [==============================] - 0s - loss: 0.0249     \n",
      "Epoch 1/1\n",
      "4640/4640 [==============================] - 2s - loss: 0.0224     \n",
      "AUC: 0.961594705448 0.954904711367 0.961191904757 0 69\n",
      "Epoch 1/1\n",
      "4641/4641 [==============================] - 0s - loss: 0.0641     \n",
      "Epoch 1/1\n",
      "4641/4641 [==============================] - 2s - loss: 0.0503     \n",
      "AUC: 0.94260792774 0.938591276958 0.947927022161 1 0\n",
      "Epoch 1/1\n",
      "4641/4641 [==============================] - 0s - loss: 0.0308     \n",
      "Epoch 1/1\n",
      "4641/4641 [==============================] - 2s - loss: 0.0316     \n",
      "AUC: 0.95584844168 0.951613151179 0.957396855004 1 1\n",
      "Epoch 1/1\n",
      "4641/4641 [==============================] - 0s - loss: 0.0275     \n",
      "Epoch 1/1\n",
      "4641/4641 [==============================] - 2s - loss: 0.0268     \n",
      "AUC: 0.958599373461 0.953619341416 0.959210881426 1 2\n",
      "Epoch 1/1\n",
      "4641/4641 [==============================] - 0s - loss: 0.0268     \n",
      "Epoch 1/1\n",
      "4641/4641 [==============================] - 2s - loss: 0.0258     \n",
      "AUC: 0.959526884145 0.956648697215 0.960986475084 1 3\n",
      "Epoch 1/1\n",
      "4641/4641 [==============================] - 0s - loss: 0.0273     \n",
      "Epoch 1/1\n",
      "4641/4641 [==============================] - 2s - loss: 0.0248     \n",
      "AUC: 0.958887192154 0.956250704601 0.960486849163 1 4\n",
      "Epoch 1/1\n",
      "4641/4641 [==============================] - 0s - loss: 0.0264     \n",
      "Epoch 1/1\n",
      "4641/4641 [==============================] - 2s - loss: 0.0246     \n",
      "AUC: 0.959515781347 0.956814385127 0.961324683399 1 5\n",
      "Epoch 1/1\n",
      "4641/4641 [==============================] - 0s - loss: 0.0263     \n",
      "Epoch 1/1\n",
      "4641/4641 [==============================] - 3s - loss: 0.0241     \n",
      "AUC: 0.960579087794 0.957093663206 0.961965229452 1 6\n",
      "Epoch 1/1\n",
      "4641/4641 [==============================] - 0s - loss: 0.0264     \n",
      "Epoch 1/1\n",
      "4641/4641 [==============================] - 3s - loss: 0.0238     \n",
      "AUC: 0.959784810689 0.957032170785 0.961553571856 1 7\n",
      "Epoch 1/1\n",
      "4641/4641 [==============================] - 0s - loss: 0.0258     \n",
      "Epoch 1/1\n",
      "4641/4641 [==============================] - 3s - loss: 0.0236     \n",
      "AUC: 0.960263939136 0.956916872495 0.961783314373 1 8\n",
      "Epoch 1/1\n",
      "4641/4641 [==============================] - 0s - loss: 0.0262     \n",
      "Epoch 1/1\n",
      "4641/4641 [==============================] - 2s - loss: 0.0235     \n",
      "AUC: 0.959371444969 0.956794741715 0.961234152891 1 9\n",
      "Epoch 1/1\n",
      "4641/4641 [==============================] - 0s - loss: 0.0263     \n",
      "Epoch 1/1\n",
      "4641/4641 [==============================] - 2s - loss: 0.0233     \n",
      "AUC: 0.961720113829 0.956933953724 0.962477666294 1 10\n",
      "Epoch 1/1\n",
      "4641/4641 [==============================] - 0s - loss: 0.0258     \n",
      "Epoch 1/1\n",
      "4641/4641 [==============================] - 2s - loss: 0.0235     \n",
      "AUC: 0.959194654259 0.957034732969 0.961407527356 1 11\n",
      "Epoch 1/1\n",
      "4641/4641 [==============================] - 0s - loss: 0.0262     \n",
      "Epoch 1/1\n",
      "4641/4641 [==============================] - 2s - loss: 0.0236     \n",
      "AUC: 0.960201592654 0.957054376381 0.961776481882 1 12\n",
      "Epoch 1/1\n",
      "4641/4641 [==============================] - 0s - loss: 0.0257     \n",
      "Epoch 1/1\n",
      "4641/4641 [==============================] - 3s - loss: 0.0235     \n",
      "AUC: 0.96091131768 0.95706547918 0.962024159689 1 13\n",
      "Epoch 1/1\n",
      "4641/4641 [==============================] - 0s - loss: 0.0262     \n",
      "Epoch 1/1\n",
      "4641/4641 [==============================] - 3s - loss: 0.0231     \n",
      "AUC: 0.959151951189 0.957055230443 0.961330661829 1 14\n",
      "Epoch 1/1\n",
      "4641/4641 [==============================] - 0s - loss: 0.0264     \n",
      "Epoch 1/1\n",
      "4641/4641 [==============================] - 2s - loss: 0.0231     \n",
      "AUC: 0.960524427864 0.957070603548 0.961769649391 1 15\n",
      "Epoch 1/1\n",
      "4641/4641 [==============================] - 0s - loss: 0.0262     \n",
      "Epoch 1/1\n",
      "4641/4641 [==============================] - 3s - loss: 0.0231     \n",
      "AUC: 0.959802745978 0.957079998224 0.961745735671 1 16\n",
      "Epoch 1/1\n",
      "4641/4641 [==============================] - 0s - loss: 0.0261     \n",
      "Epoch 1/1\n",
      "4641/4641 [==============================] - 3s - loss: 0.0231     \n",
      "AUC: 0.959806162224 0.957044981706 0.961533928443 1 17\n",
      "Epoch 1/1\n",
      "4641/4641 [==============================] - 0s - loss: 0.0258     \n",
      "Epoch 1/1\n",
      "4641/4641 [==============================] - 3s - loss: 0.0229     \n",
      "AUC: 0.960088856548 0.95705352232 0.961741465364 1 18\n",
      "Epoch 1/1\n",
      "4641/4641 [==============================] - 0s - loss: 0.0260     \n",
      "Epoch 1/1\n",
      "4641/4641 [==============================] - 3s - loss: 0.0233     \n",
      "AUC: 0.96013241368 0.957038149215 0.961609085847 1 19\n",
      "Epoch 1/1\n",
      "4641/4641 [==============================] - 0s - loss: 0.0256     \n",
      "Epoch 1/1\n",
      "4641/4641 [==============================] - 3s - loss: 0.0232     \n",
      "AUC: 0.960866906487 0.957014235495 0.962187285417 1 20\n",
      "Epoch 1/1\n",
      "4641/4641 [==============================] - 0s - loss: 0.0253     \n",
      "Epoch 1/1\n",
      "4641/4641 [==============================] - 3s - loss: 0.0229     \n",
      "AUC: 0.960606417759 0.957030462662 0.962027575935 1 21\n",
      "Epoch 1/1\n",
      "4641/4641 [==============================] - 0s - loss: 0.0257     \n",
      "Epoch 1/1\n",
      "4641/4641 [==============================] - 3s - loss: 0.0230     \n",
      "AUC: 0.960497951961 0.957027900478 0.961877261128 1 22\n",
      "Epoch 1/1\n",
      "4641/4641 [==============================] - 0s - loss: 0.0259     \n",
      "Epoch 1/1\n",
      "4641/4641 [==============================] - 3s - loss: 0.0232     \n",
      "AUC: 0.960165722075 0.957039857338 0.961714135399 1 23\n",
      "Epoch 1/1\n",
      "4641/4641 [==============================] - 0s - loss: 0.0254     \n",
      "Epoch 1/1\n",
      "4641/4641 [==============================] - 3s - loss: 0.0233     \n",
      "AUC: 0.960316890943 0.957072311671 0.961786730619 1 24\n",
      "Epoch 1/1\n",
      "4641/4641 [==============================] - 0s - loss: 0.0256     \n",
      "Epoch 1/1\n",
      "4641/4641 [==============================] - 2s - loss: 0.0228     \n",
      "AUC: 0.960768689426 0.95709622539 0.96200024597 1 25\n",
      "Epoch 1/1\n",
      "4641/4641 [==============================] - 0s - loss: 0.0257     \n",
      "Epoch 1/1\n",
      "4641/4641 [==============================] - 2s - loss: 0.0230     \n",
      "AUC: 0.959506386671 0.957095371329 0.96128881282 1 26\n",
      "Epoch 1/1\n",
      "4641/4641 [==============================] - 0s - loss: 0.0255     \n",
      "Epoch 1/1\n",
      "4641/4641 [==============================] - 2s - loss: 0.0229     \n",
      "AUC: 0.958316679136 0.957103911943 0.960832744031 1 27\n",
      "Epoch 1/1\n",
      "4641/4641 [==============================] - 0s - loss: 0.0256     \n",
      "Epoch 1/1\n",
      "4641/4641 [==============================] - 2s - loss: 0.0228     \n",
      "AUC: 0.960789186899 0.957100495697 0.962070279005 1 28\n",
      "Epoch 1/1\n",
      "4641/4641 [==============================] - 0s - loss: 0.0256     \n",
      "Epoch 1/1\n",
      "4641/4641 [==============================] - 2s - loss: 0.0228     \n",
      "AUC: 0.959703674855 0.957093663206 0.96158688025 1 29\n",
      "Epoch 1/1\n",
      "4641/4641 [==============================] - 0s - loss: 0.0256     \n",
      "Epoch 1/1\n",
      "4641/4641 [==============================] - 3s - loss: 0.0229     \n",
      "AUC: 0.960314328759 0.957113306618 0.961944731978 1 30\n",
      "Epoch 1/1\n",
      "4641/4641 [==============================] - 0s - loss: 0.0254     \n",
      "Epoch 1/1\n",
      "4641/4641 [==============================] - 3s - loss: 0.0228     \n",
      "AUC: 0.961073589347 0.95711416068 0.962527628886 1 31\n",
      "Epoch 1/1\n",
      "4641/4641 [==============================] - 0s - loss: 0.0262     \n",
      "Epoch 1/1\n",
      "4641/4641 [==============================] - 3s - loss: 0.0226     \n",
      "AUC: 0.959780540382 0.95711416068 0.961740611303 1 32\n",
      "Epoch 1/1\n",
      "4641/4641 [==============================] - 0s - loss: 0.0256     \n",
      "Epoch 1/1\n",
      "4641/4641 [==============================] - 2s - loss: 0.0230     \n",
      "AUC: 0.961115438356 0.957131241908 0.962318810873 1 33\n",
      "Epoch 1/1\n",
      "4641/4641 [==============================] - 0s - loss: 0.0254     \n",
      "Epoch 1/1\n",
      "4641/4641 [==============================] - 3s - loss: 0.0230     \n",
      "AUC: 0.960275041934 0.957147469074 0.961893488294 1 34\n",
      "Epoch 1/1\n",
      "4641/4641 [==============================] - 0s - loss: 0.0257     \n",
      "Epoch 1/1\n",
      "4641/4641 [==============================] - 2s - loss: 0.0228     \n",
      "AUC: 0.96092327454 0.957134658153 0.962204366645 1 35\n",
      "Epoch 1/1\n",
      "4641/4641 [==============================] - 0s - loss: 0.0252     \n",
      "Epoch 1/1\n",
      "4641/4641 [==============================] - 2s - loss: 0.0230     \n",
      "AUC: 0.959781394443 0.957139782522 0.96173890318 1 36\n",
      "Epoch 1/1\n",
      "4641/4641 [==============================] - 0s - loss: 0.0252     \n",
      "Epoch 1/1\n",
      "4641/4641 [==============================] - 2s - loss: 0.0230     \n",
      "AUC: 0.960017969452 0.957123555355 0.961731643658 1 37\n",
      "Epoch 1/1\n",
      "4641/4641 [==============================] - 0s - loss: 0.0256     \n",
      "Epoch 1/1\n",
      "4641/4641 [==============================] - 3s - loss: 0.0227     \n",
      "AUC: 0.960617520557 0.957144052829 0.961908861399 1 38\n",
      "Epoch 1/1\n",
      "4641/4641 [==============================] - 0s - loss: 0.0251     \n",
      "Epoch 1/1\n",
      "4641/4641 [==============================] - 2s - loss: 0.0228     \n",
      "AUC: 0.960743921645 0.957145760952 0.96207369525 1 39\n",
      "Epoch 1/1\n",
      "4641/4641 [==============================] - 0s - loss: 0.0254     \n",
      "Epoch 1/1\n",
      "4641/4641 [==============================] - 2s - loss: 0.0228     \n",
      "AUC: 0.961503182233 0.957142344706 0.962492185338 1 40\n",
      "Epoch 1/1\n",
      "4641/4641 [==============================] - 0s - loss: 0.0256     \n",
      "Epoch 1/1\n",
      "4641/4641 [==============================] - 2s - loss: 0.0228     \n",
      "AUC: 0.959378277461 0.957137220338 0.961404965171 1 41\n",
      "Epoch 1/1\n",
      "4641/4641 [==============================] - 0s - loss: 0.0249     \n",
      "Epoch 1/1\n",
      "4641/4641 [==============================] - 2s - loss: 0.0228     \n",
      "AUC: 0.960513325066 0.957132095969 0.962019889382 1 42\n",
      "Epoch 1/1\n",
      "4641/4641 [==============================] - 0s - loss: 0.0254     \n",
      "Epoch 1/1\n",
      "4641/4641 [==============================] - 2s - loss: 0.0228     \n",
      "AUC: 0.960309204391 0.957141490645 0.961913131707 1 43\n",
      "Epoch 1/1\n",
      "4641/4641 [==============================] - 0s - loss: 0.0254     \n",
      "Epoch 1/1\n",
      "4641/4641 [==============================] - 3s - loss: 0.0229     \n",
      "AUC: 0.959567025031 0.95713892846 0.961617626461 1 44\n",
      "Epoch 1/1\n",
      "4641/4641 [==============================] - 0s - loss: 0.0248     \n",
      "Epoch 1/1\n",
      "4641/4641 [==============================] - 2s - loss: 0.0229     \n",
      "AUC: 0.959848865294 0.957135512215 0.961683389189 1 45\n",
      "Epoch 1/1\n",
      "4641/4641 [==============================] - 0s - loss: 0.0249     \n",
      "Epoch 1/1\n",
      "4641/4641 [==============================] - 3s - loss: 0.0231     \n",
      "AUC: 0.959893276487 0.957133804092 0.961879823312 1 46\n",
      "Epoch 1/1\n",
      "4641/4641 [==============================] - 0s - loss: 0.0252     \n",
      "Epoch 1/1\n",
      "4641/4641 [==============================] - 2s - loss: 0.0228     \n",
      "AUC: 0.961100919312 0.957127825662 0.962291480908 1 47\n",
      "Epoch 1/1\n",
      "4641/4641 [==============================] - 0s - loss: 0.0253     \n",
      "Epoch 1/1\n",
      "4641/4641 [==============================] - 3s - loss: 0.0227     \n",
      "AUC: 0.960373258996 0.957130387846 0.961897758601 1 48\n",
      "Epoch 1/1\n",
      "4641/4641 [==============================] - 0s - loss: 0.0251     \n",
      "Epoch 1/1\n",
      "4641/4641 [==============================] - 3s - loss: 0.0227     \n",
      "AUC: 0.959534570697 0.957133804092 0.961421192338 1 49\n",
      "Epoch 1/1\n",
      "4641/4641 [==============================] - 0s - loss: 0.0249     \n",
      "Epoch 1/1\n",
      "4641/4641 [==============================] - 2s - loss: 0.0228     \n",
      "AUC: 0.960789186899 0.957132095969 0.962141166101 1 50\n",
      "Epoch 1/1\n",
      "4641/4641 [==============================] - 0s - loss: 0.0251     \n",
      "Epoch 1/1\n",
      "4641/4641 [==============================] - 2s - loss: 0.0228     \n",
      "AUC: 0.960475746364 0.957137220338 0.962101879277 1 51\n",
      "Epoch 1/1\n",
      "4641/4641 [==============================] - 0s - loss: 0.0254     \n",
      "Epoch 1/1\n",
      "4641/4641 [==============================] - 2s - loss: 0.0231     \n",
      "AUC: 0.960867760549 0.957141490645 0.962172766373 1 52\n",
      "Epoch 1/1\n",
      "4641/4641 [==============================] - 0s - loss: 0.0247     \n",
      "Epoch 1/1\n",
      "4641/4641 [==============================] - 2s - loss: 0.0229     \n",
      "AUC: 0.960460373259 0.957141490645 0.962089068356 1 53\n",
      "Epoch 1/1\n",
      "4641/4641 [==============================] - 0s - loss: 0.0248     \n",
      "Epoch 1/1\n",
      "4641/4641 [==============================] - 2s - loss: 0.0229     \n",
      "AUC: 0.95929884975 0.957140636583 0.96138617582 1 54\n",
      "Epoch 1/1\n",
      "4641/4641 [==============================] - 0s - loss: 0.0251     \n",
      "Epoch 1/1\n",
      "4641/4641 [==============================] - 2s - loss: 0.0228     \n",
      "AUC: 0.960316036882 0.957134658153 0.961901174847 1 55\n",
      "Epoch 1/1\n",
      "4641/4641 [==============================] - 0s - loss: 0.0251     \n",
      "Epoch 1/1\n",
      "4641/4641 [==============================] - 3s - loss: 0.0229     \n",
      "AUC: 0.959988077303 0.957131241908 0.961648372671 1 56\n",
      "Epoch 1/1\n",
      "4641/4641 [==============================] - 0s - loss: 0.0249     \n",
      "Epoch 1/1\n",
      "4641/4641 [==============================] - 2s - loss: 0.0224     \n",
      "AUC: 0.960319453127 0.957141490645 0.961749151917 1 57\n",
      "Epoch 1/1\n",
      "4641/4641 [==============================] - 0s - loss: 0.0250     \n",
      "Epoch 1/1\n",
      "4641/4641 [==============================] - 2s - loss: 0.0228     \n",
      "AUC: 0.961243547566 0.957144052829 0.962346140838 1 58\n",
      "Epoch 1/1\n",
      "4641/4641 [==============================] - 0s - loss: 0.0245     \n",
      "Epoch 1/1\n",
      "4641/4641 [==============================] - 2s - loss: 0.0228     \n",
      "AUC: 0.960546633461 0.957146615013 0.962136895794 1 59\n",
      "Epoch 1/1\n",
      "4641/4641 [==============================] - 0s - loss: 0.0249     \n",
      "Epoch 1/1\n",
      "4641/4641 [==============================] - 3s - loss: 0.0228     \n",
      "AUC: 0.960328847803 0.957153447504 0.962047219347 1 60\n",
      "Epoch 1/1\n",
      "4641/4641 [==============================] - 0s - loss: 0.0247     \n",
      "Epoch 1/1\n",
      "4641/4641 [==============================] - 2s - loss: 0.0230     \n",
      "AUC: 0.960350199338 0.957148323136 0.961952418531 1 61\n",
      "Epoch 1/1\n",
      "4641/4641 [==============================] - 0s - loss: 0.0249     \n",
      "Epoch 1/1\n",
      "4641/4641 [==============================] - 2s - loss: 0.0225     \n",
      "AUC: 0.962109565829 0.95715088532 0.962812458365 1 62\n",
      "Epoch 1/1\n",
      "4641/4641 [==============================] - 0s - loss: 0.0246     \n",
      "Epoch 1/1\n",
      "4641/4641 [==============================] - 2s - loss: 0.0231     \n",
      "AUC: 0.961515993154 0.95714490689 0.962597234891 1 63\n",
      "Epoch 1/1\n",
      "4641/4641 [==============================] - 0s - loss: 0.0250     \n",
      "Epoch 1/1\n",
      "4641/4641 [==============================] - 2s - loss: 0.0227     \n",
      "AUC: 0.961235861013 0.95715088532 0.96232905961 1 64\n",
      "Epoch 1/1\n",
      "4641/4641 [==============================] - 0s - loss: 0.0247     \n",
      "Epoch 1/1\n",
      "4641/4641 [==============================] - 2s - loss: 0.0226     \n",
      "AUC: 0.961510868785 0.957144052829 0.962427276671 1 65\n",
      "Epoch 1/1\n",
      "4641/4641 [==============================] - 0s - loss: 0.0244     \n",
      "Epoch 1/1\n",
      "4641/4641 [==============================] - 3s - loss: 0.0228     \n",
      "AUC: 0.960657661443 0.957140636583 0.961959251022 1 66\n",
      "Epoch 1/1\n",
      "4641/4641 [==============================] - 0s - loss: 0.0246     \n",
      "Epoch 1/1\n",
      "4641/4641 [==============================] - 2s - loss: 0.0227     \n",
      "AUC: 0.961133373645 0.957146615013 0.962319664935 1 67\n",
      "Epoch 1/1\n",
      "4641/4641 [==============================] - 0s - loss: 0.0249     \n",
      "Epoch 1/1\n",
      "4641/4641 [==============================] - 2s - loss: 0.0226     \n",
      "AUC: 0.961140633167 0.957138074399 0.962294043093 1 68\n",
      "Epoch 1/1\n",
      "4641/4641 [==============================] - 0s - loss: 0.0243     \n",
      "Epoch 1/1\n",
      "4641/4641 [==============================] - 2s - loss: 0.0227     \n",
      "AUC: 0.961067610917 0.957129533785 0.962296605277 1 69\n",
      "Epoch 1/1\n",
      "4641/4641 [==============================] - 0s - loss: 0.0678     \n",
      "Epoch 1/1\n",
      "4641/4641 [==============================] - 2s - loss: 0.0546     \n",
      "AUC: 0.939037791932 0.94033970276 0.947425902335 2 0\n",
      "Epoch 1/1\n",
      "4641/4641 [==============================] - 0s - loss: 0.0323     \n",
      "Epoch 1/1\n",
      "4641/4641 [==============================] - 3s - loss: 0.0308     \n",
      "AUC: 0.95304373673 0.944648832272 0.952630997877 2 1\n",
      "Epoch 1/1\n",
      "4641/4641 [==============================] - 0s - loss: 0.0284     \n",
      "Epoch 1/1\n",
      "4641/4641 [==============================] - 2s - loss: 0.0275     \n",
      "AUC: 0.956101910828 0.948805095541 0.95568492569 2 2\n",
      "Epoch 1/1\n",
      "4641/4641 [==============================] - 0s - loss: 0.0270     \n",
      "Epoch 1/1\n",
      "4641/4641 [==============================] - 2s - loss: 0.0266     \n",
      "AUC: 0.95761656051 0.950102760085 0.956997027601 2 3\n",
      "Epoch 1/1\n",
      "4641/4641 [==============================] - 0s - loss: 0.0269     \n",
      "Epoch 1/1\n",
      "4641/4641 [==============================] - 2s - loss: 0.0250     \n",
      "AUC: 0.95741910828 0.949869639066 0.956957112527 2 4\n",
      "Epoch 1/1\n",
      "4641/4641 [==============================] - 0s - loss: 0.0266     \n",
      "Epoch 1/1\n",
      "4641/4641 [==============================] - 2s - loss: 0.0244     \n",
      "AUC: 0.956161358811 0.950821231423 0.956818683652 2 5\n",
      "Epoch 1/1\n",
      "4641/4641 [==============================] - 0s - loss: 0.0264     \n",
      "Epoch 1/1\n",
      "4641/4641 [==============================] - 2s - loss: 0.0244     \n",
      "AUC: 0.957018259023 0.950789808917 0.957206794055 2 6\n",
      "Epoch 1/1\n",
      "4641/4641 [==============================] - 0s - loss: 0.0261     \n",
      "Epoch 1/1\n",
      "4641/4641 [==============================] - 2s - loss: 0.0245     \n",
      "AUC: 0.95584118896 0.951020806794 0.956816985138 2 7\n",
      "Epoch 1/1\n",
      "4641/4641 [==============================] - 0s - loss: 0.0265     \n",
      "Epoch 1/1\n",
      "4641/4641 [==============================] - 2s - loss: 0.0241     \n",
      "AUC: 0.956042462845 0.951129087049 0.957008067941 2 8\n",
      "Epoch 1/1\n",
      "4641/4641 [==============================] - 0s - loss: 0.0262     \n",
      "Epoch 1/1\n",
      "4641/4641 [==============================] - 2s - loss: 0.0241     \n",
      "AUC: 0.9551507431 0.951317197452 0.956963906582 2 9\n",
      "Epoch 1/1\n",
      "4641/4641 [==============================] - 0s - loss: 0.0261     \n",
      "Epoch 1/1\n",
      "4641/4641 [==============================] - 2s - loss: 0.0239     \n",
      "AUC: 0.954464543524 0.951420806794 0.956274309979 2 10\n",
      "Epoch 1/1\n",
      "4641/4641 [==============================] - 0s - loss: 0.0265     \n",
      "Epoch 1/1\n",
      "4641/4641 [==============================] - 3s - loss: 0.0235     \n",
      "AUC: 0.954826326964 0.951415711253 0.956908704883 2 11\n",
      "Epoch 1/1\n",
      "4641/4641 [==============================] - 0s - loss: 0.0260     \n",
      "Epoch 1/1\n",
      "4641/4641 [==============================] - 2s - loss: 0.0238     \n",
      "AUC: 0.954349893843 0.951503184713 0.956286199575 2 12\n",
      "Epoch 1/1\n",
      "4641/4641 [==============================] - 0s - loss: 0.0260     \n",
      "Epoch 1/1\n",
      "4641/4641 [==============================] - 2s - loss: 0.0235     \n",
      "AUC: 0.955790233546 0.951558386412 0.957027600849 2 13\n",
      "Epoch 1/1\n",
      "4641/4641 [==============================] - 0s - loss: 0.0260     \n",
      "Epoch 1/1\n",
      "4641/4641 [==============================] - 3s - loss: 0.0239     \n",
      "AUC: 0.955713800425 0.951656900212 0.957366454352 2 14\n",
      "Epoch 1/1\n",
      "4641/4641 [==============================] - 0s - loss: 0.0263     \n",
      "Epoch 1/1\n",
      "4641/4641 [==============================] - 2s - loss: 0.0236     \n",
      "AUC: 0.956242038217 0.951604246285 0.957486199575 2 15\n",
      "Epoch 1/1\n",
      "4641/4641 [==============================] - 0s - loss: 0.0259     \n",
      "Epoch 1/1\n",
      "4641/4641 [==============================] - 2s - loss: 0.0230     \n",
      "AUC: 0.956863694268 0.951617834395 0.957738428875 2 16\n",
      "Epoch 1/1\n",
      "4641/4641 [==============================] - 0s - loss: 0.0266     \n",
      "Epoch 1/1\n",
      "4641/4641 [==============================] - 2s - loss: 0.0232     \n",
      "AUC: 0.955182165605 0.951648407643 0.957143099788 2 17\n",
      "Epoch 1/1\n",
      "4641/4641 [==============================] - 0s - loss: 0.0263     \n",
      "Epoch 1/1\n",
      "4641/4641 [==============================] - 3s - loss: 0.0234     \n",
      "AUC: 0.956174946921 0.951662845011 0.957503184713 2 18\n",
      "Epoch 1/1\n",
      "4641/4641 [==============================] - 0s - loss: 0.0259     \n",
      "Epoch 1/1\n",
      "4641/4641 [==============================] - 2s - loss: 0.0231     \n",
      "AUC: 0.95576985138 0.951714649682 0.957573673036 2 19\n",
      "Epoch 1/1\n",
      "4641/4641 [==============================] - 0s - loss: 0.0257     \n",
      "Epoch 1/1\n",
      "4641/4641 [==============================] - 3s - loss: 0.0234     \n",
      "AUC: 0.955889596603 0.951774946921 0.957436942675 2 20\n",
      "Epoch 1/1\n",
      "4641/4641 [==============================] - 0s - loss: 0.0257     \n",
      "Epoch 1/1\n",
      "4641/4641 [==============================] - 3s - loss: 0.0230     \n",
      "AUC: 0.955804670913 0.951747770701 0.957480254777 2 21\n",
      "Epoch 1/1\n",
      "4641/4641 [==============================] - 0s - loss: 0.0260     \n",
      "Epoch 1/1\n",
      "4641/4641 [==============================] - 2s - loss: 0.0230     \n",
      "AUC: 0.956323566879 0.951708704883 0.957628025478 2 22\n",
      "Epoch 1/1\n",
      "4641/4641 [==============================] - 0s - loss: 0.0255     \n",
      "Epoch 1/1\n",
      "4641/4641 [==============================] - 2s - loss: 0.0230     \n",
      "AUC: 0.955931210191 0.951725690021 0.957424203822 2 23\n",
      "Epoch 1/1\n",
      "4641/4641 [==============================] - 0s - loss: 0.0256     \n",
      "Epoch 1/1\n",
      "4641/4641 [==============================] - 2s - loss: 0.0231     \n",
      "AUC: 0.955044585987 0.951776645435 0.957177919321 2 24\n",
      "Epoch 1/1\n",
      "4641/4641 [==============================] - 0s - loss: 0.0257     \n",
      "Epoch 1/1\n",
      "4641/4641 [==============================] - 3s - loss: 0.0227     \n",
      "AUC: 0.955478556263 0.951763057325 0.957397027601 2 25\n",
      "Epoch 1/1\n",
      "4641/4641 [==============================] - 0s - loss: 0.0259     \n",
      "Epoch 1/1\n",
      "4641/4641 [==============================] - 3s - loss: 0.0230     \n",
      "AUC: 0.955488747346 0.951771549894 0.957126963907 2 26\n",
      "Epoch 1/1\n",
      "4641/4641 [==============================] - 0s - loss: 0.0258     \n",
      "Epoch 1/1\n",
      "4641/4641 [==============================] - 2s - loss: 0.0231     \n",
      "AUC: 0.956505307856 0.95174522293 0.957763906582 2 27\n",
      "Epoch 1/1\n",
      "4641/4641 [==============================] - 0s - loss: 0.0259     \n",
      "Epoch 1/1\n",
      "4641/4641 [==============================] - 2s - loss: 0.0229     \n",
      "AUC: 0.955770700637 0.951755414013 0.957261995754 2 28\n",
      "Epoch 1/1\n",
      "4641/4641 [==============================] - 0s - loss: 0.0258     \n",
      "Epoch 1/1\n",
      "4641/4641 [==============================] - 3s - loss: 0.0224     \n",
      "AUC: 0.956338853503 0.951748619958 0.957616135881 2 29\n",
      "Epoch 1/1\n",
      "4641/4641 [==============================] - 0s - loss: 0.0257     \n",
      "Epoch 1/1\n",
      "4641/4641 [==============================] - 3s - loss: 0.0230     \n",
      "AUC: 0.956628450106 0.951735881104 0.957916772824 2 30\n",
      "Epoch 1/1\n",
      "4641/4641 [==============================] - 0s - loss: 0.0259     \n",
      "Epoch 1/1\n",
      "4641/4641 [==============================] - 3s - loss: 0.0231     \n",
      "AUC: 0.957641613588 0.951753715499 0.958321019108 2 31\n",
      "Epoch 1/1\n",
      "4641/4641 [==============================] - 0s - loss: 0.0258     \n",
      "Epoch 1/1\n",
      "4641/4641 [==============================] - 5s - loss: 0.0231     \n",
      "AUC: 0.955445435244 0.951751167728 0.957272186837 2 32\n",
      "Epoch 1/1\n",
      "4641/4641 [==============================] - 0s - loss: 0.0255     \n",
      "Epoch 1/1\n",
      "4641/4641 [==============================] - 4s - loss: 0.0229     \n",
      "AUC: 0.956587685775 0.951750318471 0.957680679406 2 33\n",
      "Epoch 1/1\n",
      "4641/4641 [==============================] - 0s - loss: 0.0255     \n",
      "Epoch 1/1\n",
      "4641/4641 [==============================] - 4s - loss: 0.0230     \n",
      "AUC: 0.956368577495 0.951791082803 0.95784373673 2 34\n",
      "Epoch 1/1\n",
      "4641/4641 [==============================] - 0s - loss: 0.0256     \n",
      "Epoch 1/1\n",
      "4641/4641 [==============================] - 5s - loss: 0.0229     \n",
      "AUC: 0.956555414013 0.951768152866 0.957680679406 2 35\n",
      "Epoch 1/1\n",
      "4641/4641 [==============================] - 0s - loss: 0.0259     \n",
      "Epoch 1/1\n",
      "4641/4641 [==============================] - 4s - loss: 0.0227     \n",
      "AUC: 0.956307430998 0.951776645435 0.957595753715 2 36\n",
      "Epoch 1/1\n",
      "4641/4641 [==============================] - 0s - loss: 0.0255     \n",
      "Epoch 1/1\n",
      "4641/4641 [==============================] - 3s - loss: 0.0230     \n",
      "AUC: 0.956627600849 0.95176985138 0.95790403397 2 37\n",
      "Epoch 1/1\n",
      "4641/4641 [==============================] - 0s - loss: 0.0256     \n",
      "Epoch 1/1\n",
      "4641/4641 [==============================] - 2s - loss: 0.0229     \n",
      "AUC: 0.956423779193 0.951779193206 0.957721443737 2 38\n",
      "Epoch 1/1\n",
      "4641/4641 [==============================] - 0s - loss: 0.0256     \n",
      "Epoch 1/1\n",
      "4641/4641 [==============================] - 3s - loss: 0.0229     \n",
      "AUC: 0.957896390658 0.951778343949 0.95846029724 2 39\n",
      "Epoch 1/1\n",
      "4641/4641 [==============================] - 0s - loss: 0.0255     \n",
      "Epoch 1/1\n",
      "4641/4641 [==============================] - 2s - loss: 0.0229     \n",
      "AUC: 0.956302335456 0.951773248408 0.957628874735 2 40\n",
      "Epoch 1/1\n",
      "4641/4641 [==============================] - 0s - loss: 0.0257     \n",
      "Epoch 1/1\n",
      "4641/4641 [==============================] - 3s - loss: 0.0230     \n",
      "AUC: 0.957354564756 0.951782590234 0.958069639066 2 41\n",
      "Epoch 1/1\n",
      "4641/4641 [==============================] - 0s - loss: 0.0252     \n",
      "Epoch 1/1\n",
      "4641/4641 [==============================] - 2s - loss: 0.0228     \n",
      "AUC: 0.955864118896 0.951788535032 0.957305307856 2 42\n",
      "Epoch 1/1\n",
      "4641/4641 [==============================] - 0s - loss: 0.0256     \n",
      "Epoch 1/1\n",
      "4641/4641 [==============================] - 2s - loss: 0.0231     \n",
      "AUC: 0.955870912951 0.951784288747 0.957604246285 2 43\n",
      "Epoch 1/1\n",
      "4641/4641 [==============================] - 0s - loss: 0.0257     \n",
      "Epoch 1/1\n",
      "4641/4641 [==============================] - 2s - loss: 0.0228     \n",
      "AUC: 0.955761358811 0.951774097665 0.957363057325 2 44\n",
      "Epoch 1/1\n",
      "4641/4641 [==============================] - 0s - loss: 0.0256     \n",
      "Epoch 1/1\n",
      "4641/4641 [==============================] - 2s - loss: 0.0230     \n",
      "AUC: 0.956629299363 0.951788535032 0.957611889597 2 45\n",
      "Epoch 1/1\n",
      "4641/4641 [==============================] - 0s - loss: 0.0255     \n",
      "Epoch 1/1\n",
      "4641/4641 [==============================] - 3s - loss: 0.0230     \n",
      "AUC: 0.957229723992 0.951795329087 0.9579014862 2 46\n",
      "Epoch 1/1\n",
      "4641/4641 [==============================] - 0s - loss: 0.0257     \n",
      "Epoch 1/1\n",
      "4641/4641 [==============================] - 2s - loss: 0.0227     \n",
      "AUC: 0.956197027601 0.95180552017 0.957700212314 2 47\n",
      "Epoch 1/1\n",
      "4641/4641 [==============================] - 0s - loss: 0.0255     \n",
      "Epoch 1/1\n",
      "4641/4641 [==============================] - 3s - loss: 0.0229     \n",
      "AUC: 0.95730955414 0.951821656051 0.957977070064 2 48\n",
      "Epoch 1/1\n",
      "4641/4641 [==============================] - 0s - loss: 0.0252     \n",
      "Epoch 1/1\n",
      "4641/4641 [==============================] - 2s - loss: 0.0231     \n",
      "AUC: 0.957171125265 0.951814861996 0.958200424628 2 49\n",
      "Epoch 1/1\n",
      "4641/4641 [==============================] - 0s - loss: 0.0254     \n",
      "Epoch 1/1\n",
      "4641/4641 [==============================] - 3s - loss: 0.0232     \n",
      "AUC: 0.956901910828 0.951830997877 0.95795329087 2 50\n",
      "Epoch 1/1\n",
      "4641/4641 [==============================] - 0s - loss: 0.0254     \n",
      "Epoch 1/1\n",
      "4641/4641 [==============================] - 2s - loss: 0.0228     \n",
      "AUC: 0.956409341826 0.951836942675 0.957800424628 2 51\n",
      "Epoch 1/1\n",
      "4641/4641 [==============================] - 0s - loss: 0.0255     \n",
      "Epoch 1/1\n",
      "4641/4641 [==============================] - 3s - loss: 0.0227     \n",
      "AUC: 0.956485774947 0.951832696391 0.957729087049 2 52\n",
      "Epoch 1/1\n",
      "4641/4641 [==============================] - 0s - loss: 0.0250     \n",
      "Epoch 1/1\n",
      "4641/4641 [==============================] - 2s - loss: 0.0226     \n",
      "AUC: 0.955214437367 0.951822505308 0.957155838641 2 53\n",
      "Epoch 1/1\n",
      "4641/4641 [==============================] - 0s - loss: 0.0254     \n",
      "Epoch 1/1\n",
      "4641/4641 [==============================] - 2s - loss: 0.0228     \n",
      "AUC: 0.956960509554 0.951830997877 0.95781910828 2 54\n",
      "Epoch 1/1\n",
      "4641/4641 [==============================] - 0s - loss: 0.0253     \n",
      "Epoch 1/1\n",
      "4641/4641 [==============================] - 2s - loss: 0.0227     \n",
      "AUC: 0.955792781316 0.951832696391 0.957234819533 2 55\n",
      "Epoch 1/1\n",
      "4641/4641 [==============================] - 0s - loss: 0.0256     \n",
      "Epoch 1/1\n",
      "4641/4641 [==============================] - 2s - loss: 0.0228     \n",
      "AUC: 0.956704883227 0.951834394904 0.957667940552 2 56\n",
      "Epoch 1/1\n",
      "4641/4641 [==============================] - 0s - loss: 0.0254     \n",
      "Epoch 1/1\n",
      "4641/4641 [==============================] - 3s - loss: 0.0225     \n",
      "AUC: 0.955174522293 0.95184118896 0.956964755839 2 57\n",
      "Epoch 1/1\n",
      "4641/4641 [==============================] - 0s - loss: 0.0254     \n",
      "Epoch 1/1\n",
      "4641/4641 [==============================] - 3s - loss: 0.0225     \n",
      "AUC: 0.956571549894 0.951837791932 0.957784288747 2 58\n",
      "Epoch 1/1\n",
      "4641/4641 [==============================] - 0s - loss: 0.0255     \n",
      "Epoch 1/1\n",
      "4641/4641 [==============================] - 2s - loss: 0.0229     \n",
      "AUC: 0.956789808917 0.951835244161 0.957770700637 2 59\n",
      "Epoch 1/1\n",
      "4641/4641 [==============================] - 0s - loss: 0.0253     \n",
      "Epoch 1/1\n",
      "4641/4641 [==============================] - 2s - loss: 0.0229     \n",
      "AUC: 0.956598726115 0.951853927813 0.957871762208 2 60\n",
      "Epoch 1/1\n",
      "4641/4641 [==============================] - 0s - loss: 0.0254     \n",
      "Epoch 1/1\n",
      "4641/4641 [==============================] - 3s - loss: 0.0227     \n",
      "AUC: 0.956055201699 0.951852229299 0.957510828025 2 61\n",
      "Epoch 1/1\n",
      "4641/4641 [==============================] - 0s - loss: 0.0253     \n",
      "Epoch 1/1\n",
      "4641/4641 [==============================] - 2s - loss: 0.0226     \n",
      "AUC: 0.956251380042 0.951856475584 0.957571974522 2 62\n",
      "Epoch 1/1\n",
      "4641/4641 [==============================] - 0s - loss: 0.0254     \n",
      "Epoch 1/1\n",
      "4641/4641 [==============================] - 2s - loss: 0.0231     \n",
      "AUC: 0.955845435244 0.951859872611 0.957386836518 2 63\n",
      "Epoch 1/1\n",
      "4641/4641 [==============================] - 0s - loss: 0.0256     \n",
      "Epoch 1/1\n",
      "4641/4641 [==============================] - 2s - loss: 0.0228     \n",
      "AUC: 0.956450955414 0.951846284501 0.957549044586 2 64\n",
      "Epoch 1/1\n",
      "4641/4641 [==============================] - 0s - loss: 0.0254     \n",
      "Epoch 1/1\n",
      "4641/4641 [==============================] - 2s - loss: 0.0225     \n",
      "AUC: 0.956519745223 0.951853927813 0.957714649682 2 65\n",
      "Epoch 1/1\n",
      "4641/4641 [==============================] - 0s - loss: 0.0250     \n",
      "Epoch 1/1\n",
      "4641/4641 [==============================] - 2s - loss: 0.0233     \n",
      "AUC: 0.955893842887 0.951866666667 0.957449681529 2 66\n",
      "Epoch 1/1\n",
      "4641/4641 [==============================] - 0s - loss: 0.0252     \n",
      "Epoch 1/1\n",
      "4641/4641 [==============================] - 2s - loss: 0.0229     \n",
      "AUC: 0.956300636943 0.951867515924 0.957618683652 2 67\n",
      "Epoch 1/1\n",
      "4641/4641 [==============================] - 0s - loss: 0.0253     \n",
      "Epoch 1/1\n",
      "4641/4641 [==============================] - 2s - loss: 0.0227     \n",
      "AUC: 0.95676433121 0.951858174098 0.957828450106 2 68\n",
      "Epoch 1/1\n",
      "4641/4641 [==============================] - 0s - loss: 0.0252     \n",
      "Epoch 1/1\n",
      "4641/4641 [==============================] - 2s - loss: 0.0229     \n",
      "AUC: 0.95727133758 0.951863269639 0.958021231423 2 69\n"
     ]
    }
   ],
   "source": [
    "folds = 3\n",
    "batch_size_nn = 16\n",
    "batch_size_lstm = 16\n",
    "hidden = 50\n",
    "dropout_probability = 0.25\n",
    "\n",
    "n_epochs = 70\n",
    "epoch = 0\n",
    "\n",
    "\n",
    "\n",
    "nn_aucs = np.zeros((2, folds,n_epochs))\n",
    "lstm_aucs = np.zeros((2, folds,n_epochs))\n",
    "average_aucs = np.zeros((2, folds,n_epochs))\n",
    "\n",
    "\n",
    "for i, (train_idx, test_idx) in enumerate(KFold(len(X_9),folds, shuffle=True)):\n",
    "    \n",
    "    list_index = split_by_length(X,train_idx,length=9)+split_by_length(X,test_idx,length=9)\n",
    "    \n",
    "    \n",
    "    # lstm_avg \n",
    "    nn = Sequential()\n",
    "    nn.add(Embedding(input_dim = 21, input_length =9, output_dim= 32))\n",
    "    nn.add(Flatten())\n",
    "    nn.add(Dense(10, init='glorot_uniform', activation='tanh'))\n",
    "    nn.add(Dropout(dropout_probability))\n",
    "    nn.add(Dense(1, init='glorot_uniform', activation='sigmoid'))\n",
    "    \n",
    "    nn.compile(optimizer = 'adam', loss='mean_squared_error')\n",
    "    \n",
    "    # lstm \n",
    "    sequence = Input( shape= (9, ),dtype='int32')\n",
    "    embedded = Embedding(input_dim = 21, input_length = 9, output_dim= 32)(sequence)\n",
    "    forwards = LSTM(hidden)(embedded)\n",
    "    backwards = LSTM(hidden, go_backwards=True)(embedded)\n",
    "\n",
    "    merged = merge([forwards, backwards], mode = 'concat', concat_axis=-1)\n",
    "    after_dp = Dropout(dropout_probability)(merged)\n",
    "    output = Dense(1, activation = 'sigmoid')(after_dp)\n",
    "    lstm = Model(input = sequence, output = output)\n",
    "    adam = Adam(lr=0.01)\n",
    "    lstm.compile(optimizer = adam, loss='mean_squared_error')\n",
    "      \n",
    "    \n",
    "    for epoch in range(n_epochs):\n",
    "        \n",
    "        \n",
    "        #nn\n",
    "        nn.fit(X_9[train_idx],y_9[train_idx], batch_size = 16, nb_epoch = 1)\n",
    "        for k, index in enumerate([train_idx,test_idx]):\n",
    "            nn_aucs[k][i][epoch] = AUC_simple(nn, X_9, y_9, index)\n",
    "            \n",
    "        #deep_nn\n",
    "        adam.lr.set_value(0.01*(epoch+1)**(-2))\n",
    "        lstm.fit(X_9[train_idx],y_9[train_idx], batch_size = 16, nb_epoch = 1)\n",
    "        for k, index in enumerate([train_idx,test_idx]):\n",
    "            lstm_aucs[k][i][epoch] = AUC_simple(lstm, X_9, y_9, index)\n",
    "            \n",
    "        for k, index in enumerate([train_idx,test_idx]):\n",
    "            average_aucs[k][i][epoch] = AUC_simple_average(lstm,nn, X_9, y_9, index)    \n",
    "        \n",
    "        print(\"AUC:\", nn_aucs[1][i][epoch], lstm_aucs[1][i][epoch], average_aucs[1][i][epoch], i, epoch)  "
   ]
  },
  {
   "cell_type": "code",
   "execution_count": 11,
   "metadata": {
    "collapsed": false
   },
   "outputs": [
    {
     "data": {
      "text/plain": [
       "<matplotlib.legend.Legend at 0x134ec0eb8>"
      ]
     },
     "execution_count": 11,
     "metadata": {},
     "output_type": "execute_result"
    },
    {
     "data": {
      "image/png": "[encoded data removed]",
      "text/plain": [
       "<matplotlib.figure.Figure at 0x11a9bbdd8>"
      ]
     },
     "metadata": {},
     "output_type": "display_data"
    }
   ],
   "source": [
    "plt.plot( np.arange(0,n_epochs,1), nn_aucs[1,:,:].mean(axis=0),color='r',marker='*', linestyle='-', label =\"test NN \")\n",
    "plt.plot( np.arange(0,n_epochs,1), lstm_aucs[1,:,:].mean(axis=0),color='g',marker='*', linestyle='-', label =\"test LSTM \")\n",
    "plt.plot( np.arange(0,n_epochs,1), average_aucs[1,:,:].mean(axis=0),color='b',marker='*', linestyle='-', label =\"test average between LSTM and NN \")\n",
    "\n",
    "\n",
    "plt.xlabel('epochs')\n",
    "plt.ylabel('AUC')\n",
    "plt.title('Performance on only 9 mers (trained and tested)')\n",
    "plt.legend(loc=4)"
   ]
  },
  {
   "cell_type": "code",
   "execution_count": 12,
   "metadata": {
    "collapsed": false
   },
   "outputs": [
    {
     "data": {
      "text/plain": [
       "array([[  3.07729041e-04,   5.12093015e-02,   4.10390438e-01, ...,\n",
       "          3.47655523e-01,   3.47655523e-01,   3.47655523e-01],\n",
       "       [  1.24147164e-01,   2.06188689e-02,   7.32946195e-02, ...,\n",
       "          4.82838053e-02,   4.82838053e-02,   4.82838053e-02],\n",
       "       [  2.50410836e-01,   8.50644775e-02,   1.50465447e-02, ...,\n",
       "          5.13663614e-03,   5.13663614e-03,   5.13663614e-03],\n",
       "       ..., \n",
       "       [  3.06160380e-01,   1.18725106e-01,   4.86609658e-03, ...,\n",
       "          3.52064588e-04,   3.52064588e-04,   3.52064588e-04],\n",
       "       [  4.06454074e-01,   1.83856570e-01,   2.09163413e-04, ...,\n",
       "          4.28455484e-03,   4.28455484e-03,   4.28455484e-03],\n",
       "       [  2.70998618e-01,   9.72334341e-02,   1.05061985e-02, ...,\n",
       "          2.65283926e-03,   2.65283926e-03,   2.65283926e-03]])"
      ]
     },
     "execution_count": 12,
     "metadata": {},
     "output_type": "execute_result"
    }
   ],
   "source": [
    "(lstm.predict(X_9[test_idx])-y_9)**2"
   ]
  },
  {
   "cell_type": "code",
   "execution_count": 13,
   "metadata": {
    "collapsed": false
   },
   "outputs": [
    {
     "data": {
      "text/plain": [
       "array([[  2.98086000e-02,   1.45469154e-01,   6.33180977e-01, ...,\n",
       "          5.54626748e-01,   5.54626748e-01,   5.54626748e-01],\n",
       "       [  1.41928525e-01,   2.82177873e-02,   6.06838885e-02, ...,\n",
       "          3.81604396e-02,   3.81604396e-02,   3.81604396e-02],\n",
       "       [  2.59690661e-01,   9.05083241e-02,   1.28769150e-02, ...,\n",
       "          3.90405872e-03,   3.90405872e-03,   3.90405872e-03],\n",
       "       ..., \n",
       "       [  3.25452364e-01,   1.30849901e-01,   2.76578183e-03, ...,\n",
       "          2.54936415e-06,   2.54936415e-06,   2.54936415e-06],\n",
       "       [  3.55996885e-01,   1.50468140e-01,   6.98031173e-04, ...,\n",
       "          6.03869118e-04,   6.03869118e-04,   6.03869118e-04],\n",
       "       [  3.04669231e-01,   1.17797216e-01,   5.05613701e-03, ...,\n",
       "          4.04512280e-04,   4.04512280e-04,   4.04512280e-04]])"
      ]
     },
     "execution_count": 13,
     "metadata": {},
     "output_type": "execute_result"
    }
   ],
   "source": [
    "(nn.predict(X_9[test_idx])-y_9)**2"
   ]
  },
  {
   "cell_type": "code",
   "execution_count": 14,
   "metadata": {
    "collapsed": false
   },
   "outputs": [],
   "source": [
    "deviation_array = (lstm.predict(X_9[test_idx])[:,0]-y_9[test_idx])**2 - (nn.predict(X_9[test_idx])[:,0]-y_9[test_idx])**2\n",
    "lstm_error = (lstm.predict(X_9[test_idx])[:,0]-y_9[test_idx])**2\n",
    "nn_error = (nn.predict(X_9[test_idx])[:,0]-y_9[test_idx])**2\n",
    "\n",
    "m = deviation_array.mean()\n",
    "std = deviation_array.std()\n",
    "\n",
    "lstm_error_mean = lstm_error.mean()\n",
    "nn_error_mean = nn_error.mean()\n",
    "lstm_error_std = lstm_error.std()\n",
    "nn_error_std = nn_error.std()"
   ]
  },
  {
   "cell_type": "code",
   "execution_count": 15,
   "metadata": {
    "collapsed": false
   },
   "outputs": [
    {
     "data": {
      "text/plain": [
       "460"
      ]
     },
     "execution_count": 15,
     "metadata": {},
     "output_type": "execute_result"
    }
   ],
   "source": [
    "(deviation_array > 0.01 ).sum()"
   ]
  },
  {
   "cell_type": "code",
   "execution_count": 16,
   "metadata": {
    "collapsed": false
   },
   "outputs": [
    {
     "data": {
      "text/plain": [
       "2320"
      ]
     },
     "execution_count": 16,
     "metadata": {},
     "output_type": "execute_result"
    }
   ],
   "source": [
    "len(deviation_array)"
   ]
  },
  {
   "cell_type": "code",
   "execution_count": 17,
   "metadata": {
    "collapsed": false
   },
   "outputs": [
    {
     "data": {
      "text/plain": [
       "0.028884873148310553"
      ]
     },
     "execution_count": 17,
     "metadata": {},
     "output_type": "execute_result"
    }
   ],
   "source": [
    "lstm_error_mean"
   ]
  },
  {
   "cell_type": "code",
   "execution_count": 18,
   "metadata": {
    "collapsed": false
   },
   "outputs": [
    {
     "data": {
      "text/plain": [
       "0.052393590487538604"
      ]
     },
     "execution_count": 18,
     "metadata": {},
     "output_type": "execute_result"
    }
   ],
   "source": [
    "lstm_error_std"
   ]
  },
  {
   "cell_type": "code",
   "execution_count": 19,
   "metadata": {
    "collapsed": false
   },
   "outputs": [
    {
     "data": {
      "text/plain": [
       "172"
      ]
     },
     "execution_count": 19,
     "metadata": {},
     "output_type": "execute_result"
    }
   ],
   "source": [
    "(lstm_error > 0.1).sum()"
   ]
  },
  {
   "cell_type": "code",
   "execution_count": null,
   "metadata": {
    "collapsed": false
   },
   "outputs": [],
   "source": []
  },
  {
   "cell_type": "code",
   "execution_count": 20,
   "metadata": {
    "collapsed": false
   },
   "outputs": [
    {
     "data": {
      "text/plain": [
       "(0.025533444676375493, 0.047269560703641321)"
      ]
     },
     "execution_count": 20,
     "metadata": {},
     "output_type": "execute_result"
    }
   ],
   "source": [
    "nn_error_mean, nn_error_std"
   ]
  },
  {
   "cell_type": "code",
   "execution_count": 21,
   "metadata": {
    "collapsed": false
   },
   "outputs": [
    {
     "data": {
      "text/plain": [
       "129"
      ]
     },
     "execution_count": 21,
     "metadata": {},
     "output_type": "execute_result"
    }
   ],
   "source": [
    "(nn_error > 0.1).sum()"
   ]
  },
  {
   "cell_type": "code",
   "execution_count": 22,
   "metadata": {
    "collapsed": false
   },
   "outputs": [
    {
     "data": {
      "text/plain": [
       "(array([1958,  217,   79,   33,   10,   11,    6,    2,    2,    2]),\n",
       " array([  6.31833016e-08,   5.48203014e-02,   1.09640540e-01,\n",
       "          1.64460778e-01,   2.19281016e-01,   2.74101254e-01,\n",
       "          3.28921492e-01,   3.83741731e-01,   4.38561969e-01,\n",
       "          4.93382207e-01,   5.48202445e-01]))"
      ]
     },
     "execution_count": 22,
     "metadata": {},
     "output_type": "execute_result"
    }
   ],
   "source": [
    "np.histogram(lstm_error)"
   ]
  },
  {
   "cell_type": "code",
   "execution_count": 23,
   "metadata": {
    "collapsed": false
   },
   "outputs": [
    {
     "data": {
      "text/plain": [
       "[<matplotlib.lines.Line2D at 0x12d277278>]"
      ]
     },
     "execution_count": 23,
     "metadata": {},
     "output_type": "execute_result"
    },
    {
     "data": {
      "image/png": "[encoded data removed]",
      "text/plain": [
       "<matplotlib.figure.Figure at 0x12d277eb8>"
      ]
     },
     "metadata": {},
     "output_type": "display_data"
    }
   ],
   "source": [
    "plt.plot(lstm_error)\n",
    "plt.plot(nn_error)"
   ]
  },
  {
   "cell_type": "code",
   "execution_count": 51,
   "metadata": {
    "collapsed": false
   },
   "outputs": [
    {
     "data": {
      "text/plain": [
       "[<matplotlib.lines.Line2D at 0x133469710>]"
      ]
     },
     "execution_count": 51,
     "metadata": {},
     "output_type": "execute_result"
    },
    {
     "data": {
      "image/png": "[encoded data removed]",
      "text/plain": [
       "<matplotlib.figure.Figure at 0x1386376a0>"
      ]
     },
     "metadata": {},
     "output_type": "display_data"
    }
   ],
   "source": [
    "plt.plot(deviation_array)"
   ]
  },
  {
   "cell_type": "code",
   "execution_count": 62,
   "metadata": {
    "collapsed": false
   },
   "outputs": [
    {
     "data": {
      "text/plain": [
       "[<matplotlib.lines.Line2D at 0x134340f98>]"
      ]
     },
     "execution_count": 62,
     "metadata": {},
     "output_type": "execute_result"
    },
    {
     "data": {
      "image/png": "[encoded data removed]",
      "text/plain": [
       "<matplotlib.figure.Figure at 0x134e74710>"
      ]
     },
     "metadata": {},
     "output_type": "display_data"
    }
   ],
   "source": [
    "plt.plot(nn.predict(X_9[test_idx]), marker='.')\n",
    "plt.plot(lstm.predict(X_9[test_idx]), marker='.')\n",
    "plt.plot(y_9[test_idx], marker='.')"
   ]
  },
  {
   "cell_type": "code",
   "execution_count": 84,
   "metadata": {
    "collapsed": false
   },
   "outputs": [
    {
     "data": {
      "text/plain": [
       "(1765, 145, 252, 158)"
      ]
     },
     "execution_count": 84,
     "metadata": {},
     "output_type": "execute_result"
    }
   ],
   "source": [
    "t=0.001\n",
    "lstm_small = (lstm_error < t)\n",
    "lstm_large = (lstm_error >= t)\n",
    "nn_small = (nn_error < t)\n",
    "nn_large = (nn_error >= t)\n",
    "\n",
    "A = nn_large & lstm_large \n",
    "B = nn_large & lstm_small\n",
    "C = nn_small & lstm_large\n",
    "D = nn_small & lstm_small\n",
    "\n",
    "A.sum(), B.sum(), C.sum(), D.sum()"
   ]
  },
  {
   "cell_type": "code",
   "execution_count": 81,
   "metadata": {
    "collapsed": false
   },
   "outputs": [],
   "source": [
    "A = nn_large & lstm_large \n",
    "B = nn_large & lstm_small\n",
    "C = nn_small & lstm_large\n",
    "D = nn_small & lstm_small"
   ]
  },
  {
   "cell_type": "code",
   "execution_count": 82,
   "metadata": {
    "collapsed": false
   },
   "outputs": [
    {
     "data": {
      "text/plain": [
       "(1033, 234, 424, 629)"
      ]
     },
     "execution_count": 82,
     "metadata": {},
     "output_type": "execute_result"
    }
   ],
   "source": [
    "A.sum(), B.sum(), C.sum(), D.sum()"
   ]
  },
  {
   "cell_type": "code",
   "execution_count": 80,
   "metadata": {
    "collapsed": false
   },
   "outputs": [
    {
     "data": {
      "text/plain": [
       "2320"
      ]
     },
     "execution_count": 80,
     "metadata": {},
     "output_type": "execute_result"
    }
   ],
   "source": [
    "len(A)"
   ]
  },
  {
   "cell_type": "code",
   "execution_count": 86,
   "metadata": {
    "collapsed": false
   },
   "outputs": [
    {
     "data": {
      "text/plain": [
       "array([[ 1,  1,  6, ...,  8,  5, 18],\n",
       "       [ 1,  1,  8, ..., 18, 16, 18],\n",
       "       [ 1,  1,  8, ...,  1, 18,  1],\n",
       "       ..., \n",
       "       [20, 18,  3, ..., 15,  3, 20],\n",
       "       [20, 18,  3, ...,  9, 17, 10],\n",
       "       [20, 20,  9, ..., 16, 20,  5]])"
      ]
     },
     "execution_count": 86,
     "metadata": {},
     "output_type": "execute_result"
    }
   ],
   "source": [
    "X_9[test_idx][C]"
   ]
  },
  {
   "cell_type": "code",
   "execution_count": 87,
   "metadata": {
    "collapsed": false
   },
   "outputs": [
    {
     "data": {
      "text/plain": [
       "array([[ 1,  1,  6, ...,  2, 17, 11],\n",
       "       [ 1,  5, 16, ...,  6, 18, 18],\n",
       "       [ 1,  8,  8, ...,  1, 20,  1],\n",
       "       ..., \n",
       "       [20, 17,  1, ..., 10, 18, 20],\n",
       "       [20, 18,  8, ..., 13, 15,  8],\n",
       "       [20, 18, 10, ...,  8, 18, 18]])"
      ]
     },
     "execution_count": 87,
     "metadata": {},
     "output_type": "execute_result"
    }
   ],
   "source": [
    "X_9[test_idx][B]"
   ]
  },
  {
   "cell_type": "code",
   "execution_count": 97,
   "metadata": {
    "collapsed": false
   },
   "outputs": [
    {
     "data": {
      "text/plain": [
       "{'input_layers': [['input_4', 0, 0]],\n",
       " 'layers': [{'class_name': 'InputLayer',\n",
       "   'config': {'batch_input_shape': (None, 9),\n",
       "    'input_dtype': 'int32',\n",
       "    'name': 'input_4',\n",
       "    'sparse': False},\n",
       "   'inbound_nodes': [],\n",
       "   'name': 'input_4'},\n",
       "  {'class_name': 'Embedding',\n",
       "   'config': {'W_constraint': None,\n",
       "    'W_regularizer': None,\n",
       "    'activity_regularizer': None,\n",
       "    'batch_input_shape': (None, 9),\n",
       "    'dropout': 0.0,\n",
       "    'init': 'uniform',\n",
       "    'input_dim': 21,\n",
       "    'input_dtype': 'int32',\n",
       "    'input_length': 9,\n",
       "    'mask_zero': False,\n",
       "    'name': 'embedding_8',\n",
       "    'output_dim': 32,\n",
       "    'trainable': True},\n",
       "   'inbound_nodes': [[['input_4', 0, 0]]],\n",
       "   'name': 'embedding_8'},\n",
       "  {'class_name': 'LSTM',\n",
       "   'config': {'U_regularizer': None,\n",
       "    'W_regularizer': None,\n",
       "    'activation': 'tanh',\n",
       "    'b_regularizer': None,\n",
       "    'consume_less': 'cpu',\n",
       "    'dropout_U': 0.0,\n",
       "    'dropout_W': 0.0,\n",
       "    'forget_bias_init': 'one',\n",
       "    'go_backwards': False,\n",
       "    'init': 'glorot_uniform',\n",
       "    'inner_activation': 'hard_sigmoid',\n",
       "    'inner_init': 'orthogonal',\n",
       "    'input_dim': 32,\n",
       "    'input_length': None,\n",
       "    'name': 'lstm_7',\n",
       "    'output_dim': 50,\n",
       "    'return_sequences': False,\n",
       "    'stateful': False,\n",
       "    'trainable': True,\n",
       "    'unroll': False},\n",
       "   'inbound_nodes': [[['embedding_8', 0, 0]]],\n",
       "   'name': 'lstm_7'},\n",
       "  {'class_name': 'LSTM',\n",
       "   'config': {'U_regularizer': None,\n",
       "    'W_regularizer': None,\n",
       "    'activation': 'tanh',\n",
       "    'b_regularizer': None,\n",
       "    'consume_less': 'cpu',\n",
       "    'dropout_U': 0.0,\n",
       "    'dropout_W': 0.0,\n",
       "    'forget_bias_init': 'one',\n",
       "    'go_backwards': True,\n",
       "    'init': 'glorot_uniform',\n",
       "    'inner_activation': 'hard_sigmoid',\n",
       "    'inner_init': 'orthogonal',\n",
       "    'input_dim': 32,\n",
       "    'input_length': None,\n",
       "    'name': 'lstm_8',\n",
       "    'output_dim': 50,\n",
       "    'return_sequences': False,\n",
       "    'stateful': False,\n",
       "    'trainable': True,\n",
       "    'unroll': False},\n",
       "   'inbound_nodes': [[['embedding_8', 0, 0]]],\n",
       "   'name': 'lstm_8'},\n",
       "  {'class_name': 'Merge',\n",
       "   'config': {'concat_axis': -1,\n",
       "    'dot_axes': -1,\n",
       "    'mode': 'concat',\n",
       "    'mode_type': 'raw',\n",
       "    'name': 'merge_4',\n",
       "    'output_shape': None,\n",
       "    'output_shape_type': 'raw'},\n",
       "   'inbound_nodes': [[['lstm_7', 0, 0], ['lstm_8', 0, 0]]],\n",
       "   'name': 'merge_4'},\n",
       "  {'class_name': 'Dropout',\n",
       "   'config': {'name': 'dropout_8', 'p': 0.25, 'trainable': True},\n",
       "   'inbound_nodes': [[['merge_4', 0, 0]]],\n",
       "   'name': 'dropout_8'},\n",
       "  {'class_name': 'Dense',\n",
       "   'config': {'W_constraint': None,\n",
       "    'W_regularizer': None,\n",
       "    'activation': 'sigmoid',\n",
       "    'activity_regularizer': None,\n",
       "    'b_constraint': None,\n",
       "    'b_regularizer': None,\n",
       "    'bias': True,\n",
       "    'init': 'glorot_uniform',\n",
       "    'input_dim': None,\n",
       "    'name': 'dense_12',\n",
       "    'output_dim': 1,\n",
       "    'trainable': True},\n",
       "   'inbound_nodes': [[['dropout_8', 0, 0]]],\n",
       "   'name': 'dense_12'}],\n",
       " 'name': 'model_4',\n",
       " 'output_layers': [['dense_12', 0, 0]]}"
      ]
     },
     "execution_count": 97,
     "metadata": {},
     "output_type": "execute_result"
    }
   ],
   "source": [
    "lstm.get_config()"
   ]
  },
  {
   "cell_type": "code",
   "execution_count": 101,
   "metadata": {
    "collapsed": false
   },
   "outputs": [
    {
     "data": {
      "text/plain": [
       "{'U_regularizer': None,\n",
       " 'W_regularizer': None,\n",
       " 'activation': 'tanh',\n",
       " 'b_regularizer': None,\n",
       " 'consume_less': 'cpu',\n",
       " 'dropout_U': 0.0,\n",
       " 'dropout_W': 0.0,\n",
       " 'forget_bias_init': 'one',\n",
       " 'go_backwards': False,\n",
       " 'init': 'glorot_uniform',\n",
       " 'inner_activation': 'hard_sigmoid',\n",
       " 'inner_init': 'orthogonal',\n",
       " 'input_dim': 32,\n",
       " 'input_length': None,\n",
       " 'name': 'lstm_7',\n",
       " 'output_dim': 50,\n",
       " 'return_sequences': False,\n",
       " 'stateful': False,\n",
       " 'trainable': True,\n",
       " 'unroll': False}"
      ]
     },
     "execution_count": 101,
     "metadata": {},
     "output_type": "execute_result"
    }
   ],
   "source": [
    "lstm.layers[2].get_config()"
   ]
  },
  {
   "cell_type": "code",
   "execution_count": 132,
   "metadata": {
    "collapsed": false
   },
   "outputs": [
    {
     "data": {
      "text/plain": [
       "50"
      ]
     },
     "execution_count": 132,
     "metadata": {},
     "output_type": "execute_result"
    }
   ],
   "source": [
    "len(lstm.layers[2].get_weights()[11])"
   ]
  },
  {
   "cell_type": "code",
   "execution_count": 154,
   "metadata": {
    "collapsed": false
   },
   "outputs": [
    {
     "data": {
      "text/plain": [
       "50"
      ]
     },
     "execution_count": 154,
     "metadata": {},
     "output_type": "execute_result"
    }
   ],
   "source": [
    "len(lstm.layers[2].get_weights()[0][31])"
   ]
  },
  {
   "cell_type": "code",
   "execution_count": 156,
   "metadata": {
    "collapsed": false
   },
   "outputs": [
    {
     "data": {
      "text/plain": [
       "[{'class_name': 'Embedding',\n",
       "  'config': {'W_constraint': None,\n",
       "   'W_regularizer': None,\n",
       "   'activity_regularizer': None,\n",
       "   'batch_input_shape': (None, 9),\n",
       "   'dropout': 0.0,\n",
       "   'init': 'uniform',\n",
       "   'input_dim': 21,\n",
       "   'input_dtype': 'int32',\n",
       "   'input_length': 9,\n",
       "   'mask_zero': False,\n",
       "   'name': 'embedding_7',\n",
       "   'output_dim': 32,\n",
       "   'trainable': True}},\n",
       " {'class_name': 'Flatten', 'config': {'name': 'flatten_4', 'trainable': True}},\n",
       " {'class_name': 'Dense',\n",
       "  'config': {'W_constraint': None,\n",
       "   'W_regularizer': None,\n",
       "   'activation': 'tanh',\n",
       "   'activity_regularizer': None,\n",
       "   'b_constraint': None,\n",
       "   'b_regularizer': None,\n",
       "   'bias': True,\n",
       "   'init': 'glorot_uniform',\n",
       "   'input_dim': None,\n",
       "   'name': 'dense_10',\n",
       "   'output_dim': 10,\n",
       "   'trainable': True}},\n",
       " {'class_name': 'Dropout',\n",
       "  'config': {'name': 'dropout_7', 'p': 0.25, 'trainable': True}},\n",
       " {'class_name': 'Dense',\n",
       "  'config': {'W_constraint': None,\n",
       "   'W_regularizer': None,\n",
       "   'activation': 'sigmoid',\n",
       "   'activity_regularizer': None,\n",
       "   'b_constraint': None,\n",
       "   'b_regularizer': None,\n",
       "   'bias': True,\n",
       "   'init': 'glorot_uniform',\n",
       "   'input_dim': None,\n",
       "   'name': 'dense_11',\n",
       "   'output_dim': 1,\n",
       "   'trainable': True}}]"
      ]
     },
     "execution_count": 156,
     "metadata": {},
     "output_type": "execute_result"
    }
   ],
   "source": [
    "nn.get_config()"
   ]
  },
  {
   "cell_type": "code",
   "execution_count": 170,
   "metadata": {
    "collapsed": false
   },
   "outputs": [
    {
     "data": {
      "text/plain": [
       "2"
      ]
     },
     "execution_count": 170,
     "metadata": {},
     "output_type": "execute_result"
    }
   ],
   "source": [
    "len(nn.layers[4].get_weights())"
   ]
  },
  {
   "cell_type": "code",
   "execution_count": 183,
   "metadata": {
    "collapsed": false
   },
   "outputs": [
    {
     "data": {
      "text/plain": [
       "32"
      ]
     },
     "execution_count": 183,
     "metadata": {},
     "output_type": "execute_result"
    }
   ],
   "source": [
    "len(nn.layers[0].get_weights()[0][0])"
   ]
  },
  {
   "cell_type": "code",
   "execution_count": 184,
   "metadata": {
    "collapsed": true
   },
   "outputs": [],
   "source": [
    "from keras import backend as K\n",
    "\n",
    "# with a Sequential model\n",
    "get_flatten_layer_output = K.function([nn.layers[0].input],\n",
    "                                  [nn.layers[1].output])\n",
    "layer_output = get_flatten_layer_output([X_9[test_idx]])[0]"
   ]
  },
  {
   "cell_type": "code",
   "execution_count": 187,
   "metadata": {
    "collapsed": false
   },
   "outputs": [
    {
     "data": {
      "text/plain": [
       "288"
      ]
     },
     "execution_count": 187,
     "metadata": {},
     "output_type": "execute_result"
    }
   ],
   "source": [
    "len(layer_output[0])"
   ]
  },
  {
   "cell_type": "code",
   "execution_count": 188,
   "metadata": {
    "collapsed": true
   },
   "outputs": [],
   "source": [
    "from sklearn.decomposition import PCA \n",
    "pca = PCA(n_components=2)\n",
    "pca.fit(layer_output)\n",
    "embedding_vectors_lstm_pca = pca.transform(layer_output)"
   ]
  },
  {
   "cell_type": "code",
   "execution_count": 193,
   "metadata": {
    "collapsed": false
   },
   "outputs": [
    {
     "data": {
      "text/plain": [
       "[<matplotlib.lines.Line2D at 0x136669240>]"
      ]
     },
     "execution_count": 193,
     "metadata": {},
     "output_type": "execute_result"
    },
    {
     "data": {
      "image/png": "[encoded data removed]",
      "text/plain": [
       "<matplotlib.figure.Figure at 0x133d22630>"
      ]
     },
     "metadata": {},
     "output_type": "display_data"
    }
   ],
   "source": [
    "plt.plot(embedding_vectors_lstm_pca[1:,0],embedding_vectors_lstm_pca[1:,1], linestyle='',color= 'r', marker='.')"
   ]
  },
  {
   "cell_type": "code",
   "execution_count": 190,
   "metadata": {
    "collapsed": true
   },
   "outputs": [],
   "source": [
    "from sklearn.manifold import TSNE\n",
    "tsne = TSNE(random_state=42)\n",
    "embedding_vectors_lstm_tsne = tsne.fit_transform(layer_output)"
   ]
  },
  {
   "cell_type": "code",
   "execution_count": 199,
   "metadata": {
    "collapsed": false
   },
   "outputs": [
    {
     "data": {
      "text/plain": [
       "[<matplotlib.lines.Line2D at 0x13535ebe0>]"
      ]
     },
     "execution_count": 199,
     "metadata": {},
     "output_type": "execute_result"
    },
    {
     "data": {
      "image/png": "[encoded data removed]",
      "text/plain": [
       "<matplotlib.figure.Figure at 0x134a16908>"
      ]
     },
     "metadata": {},
     "output_type": "display_data"
    }
   ],
   "source": [
    "plt.plot(embedding_vectors_lstm_tsne[1:,0],embedding_vectors_lstm_tsne[1:,1], linestyle='',color= 'r', marker='.' )\n"
   ]
  },
  {
   "cell_type": "code",
   "execution_count": 1,
   "metadata": {
    "collapsed": false
   },
   "outputs": [
    {
     "name": "stdout",
     "output_type": "stream",
     "text": [
      "3\n"
     ]
    }
   ],
   "source": [
    "print(3)"
   ]
  },
  {
   "cell_type": "code",
   "execution_count": 2,
   "metadata": {
    "collapsed": false
   },
   "outputs": [
    {
     "ename": "NameError",
     "evalue": "name 'X_9' is not defined",
     "output_type": "error",
     "traceback": [
      "\u001b[0;31m---------------------------------------------------------------------------\u001b[0m",
      "\u001b[0;31mNameError\u001b[0m                                 Traceback (most recent call last)",
      "\u001b[0;32m<ipython-input-2-efd2e2a27d76>\u001b[0m in \u001b[0;36m<module>\u001b[0;34m()\u001b[0m\n\u001b[0;32m----> 1\u001b[0;31m \u001b[0mX_9\u001b[0m\u001b[0;34m\u001b[0m\u001b[0m\n\u001b[0m",
      "\u001b[0;31mNameError\u001b[0m: name 'X_9' is not defined"
     ]
    }
   ],
   "source": [
    "X_9"
   ]
  },
  {
   "cell_type": "code",
   "execution_count": null,
   "metadata": {
    "collapsed": true
   },
   "outputs": [],
   "source": []
  }
 ],
 "metadata": {
  "kernelspec": {
   "display_name": "Python [conda root]",
   "language": "python",
   "name": "conda-root-py"
  },
  "language_info": {
   "codemirror_mode": {
    "name": "ipython",
    "version": 3
   },
   "file_extension": ".py",
   "mimetype": "text/x-python",
   "name": "python",
   "nbconvert_exporter": "python",
   "pygments_lexer": "ipython3",
   "version": "3.5.2"
  }
 },
 "nbformat": 4,
 "nbformat_minor": 1
}
